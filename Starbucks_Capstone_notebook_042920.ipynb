{
 "cells": [
  {
   "cell_type": "markdown",
   "metadata": {},
   "source": [
    "# Starbucks Capstone Challenge\n",
    "\n",
    "### Introduction\n",
    "\n",
    "This data set contains simulated data that mimics customer behavior on the Starbucks rewards mobile app. Once every few days, Starbucks sends out an offer to users of the mobile app. An offer can be merely an advertisement for a drink or an actual offer such as a discount or BOGO (buy one get one free). Some users might not receive any offer during certain weeks. \n",
    "\n",
    "Not all users receive the same offer, and that is the challenge to solve with this data set.\n",
    "\n",
    "Your task is to combine transaction, demographic and offer data to determine which demographic groups respond best to which offer type. This data set is a simplified version of the real Starbucks app because the underlying simulator only has one product whereas Starbucks actually sells dozens of products.\n",
    "\n",
    "Every offer has a validity period before the offer expires. As an example, a BOGO offer might be valid for only 5 days. You'll see in the data set that informational offers have a validity period even though these ads are merely providing information about a product; for example, if an informational offer has 7 days of validity, you can assume the customer is feeling the influence of the offer for 7 days after receiving the advertisement.\n",
    "\n",
    "You'll be given transactional data showing user purchases made on the app including the timestamp of purchase and the amount of money spent on a purchase. This transactional data also has a record for each offer that a user receives as well as a record for when a user actually views the offer. There are also records for when a user completes an offer. \n",
    "\n",
    "Keep in mind as well that someone using the app might make a purchase through the app without having received an offer or seen an offer.\n",
    "\n",
    "### Example\n",
    "\n",
    "To give an example, a user could receive a discount offer buy 10 dollars get 2 off on Monday. The offer is valid for 10 days from receipt. If the customer accumulates at least 10 dollars in purchases during the validity period, the customer completes the offer.\n",
    "\n",
    "However, there are a few things to watch out for in this data set. Customers do not opt into the offers that they receive; in other words, a user can receive an offer, never actually view the offer, and still complete the offer. For example, a user might receive the \"buy 10 dollars get 2 dollars off offer\", but the user never opens the offer during the 10 day validity period. The customer spends 15 dollars during those ten days. There will be an offer completion record in the data set; however, the customer was not influenced by the offer because the customer never viewed the offer.\n",
    "\n",
    "### Cleaning\n",
    "\n",
    "This makes data cleaning especially important and tricky.\n",
    "\n",
    "You'll also want to take into account that some demographic groups will make purchases even if they don't receive an offer. From a business perspective, if a customer is going to make a 10 dollar purchase without an offer anyway, you wouldn't want to send a buy 10 dollars get 2 dollars off offer. You'll want to try to assess what a certain demographic group will buy when not receiving any offers.\n",
    "\n",
    "### Final Advice\n",
    "\n",
    "Because this is a capstone project, you are free to analyze the data any way you see fit. For example, you could build a machine learning model that predicts how much someone will spend based on demographics and offer type. Or you could build a model that predicts whether or not someone will respond to an offer. Or, you don't need to build a machine learning model at all. You could develop a set of heuristics that determine what offer you should send to each customer (i.e., 75 percent of women customers who were 35 years old responded to offer A vs 40 percent from the same demographic to offer B, so send offer A)."
   ]
  },
  {
   "cell_type": "markdown",
   "metadata": {},
   "source": [
    "# Data Sets\n",
    "\n",
    "The data is contained in three files:\n",
    "\n",
    "* portfolio.json - containing offer ids and meta data about each offer (duration, type, etc.)\n",
    "* profile.json - demographic data for each customer\n",
    "* transcript.json - records for transactions, offers received, offers viewed, and offers completed\n",
    "\n",
    "Here is the schema and explanation of each variable in the files:\n",
    "\n",
    "**portfolio.json**\n",
    "* id (string) - offer id\n",
    "* offer_type (string) - type of offer ie BOGO, discount, informational\n",
    "* difficulty (int) - minimum required spend to complete an offer\n",
    "* reward (int) - reward given for completing an offer\n",
    "* duration (int) - time for offer to be open, in days\n",
    "* channels (list of strings)\n",
    "\n",
    "**profile.json**\n",
    "* age (int) - age of the customer \n",
    "* became_member_on (int) - date when customer created an app account\n",
    "* gender (str) - gender of the customer (note some entries contain 'O' for other rather than M or F)\n",
    "* id (str) - customer id\n",
    "* income (float) - customer's income\n",
    "\n",
    "**transcript.json**\n",
    "* event (str) - record description (ie transaction, offer received, offer viewed, etc.)\n",
    "* person (str) - customer id\n",
    "* time (int) - time in hours since start of test. The data begins at time t=0\n",
    "* value - (dict of strings) - either an offer id or transaction amount depending on the record\n",
    "\n",
    "**Note:** If you are using the workspace, you will need to go to the terminal and run the command `conda update pandas` before reading in the files. This is because the version of pandas in the workspace cannot read in the transcript.json file correctly, but the newest version of pandas can. You can access the termnal from the orange icon in the top left of this notebook.  \n",
    "\n",
    "You can see how to access the terminal and how the install works using the two images below.  First you need to access the terminal:\n",
    "\n",
    "<img src=\"pic1.png\"/>\n",
    "\n",
    "Then you will want to run the above command:\n",
    "\n",
    "<img src=\"pic2.png\"/>\n",
    "\n",
    "Finally, when you enter back into the notebook (use the jupyter icon again), you should be able to run the below cell without any errors."
   ]
  },
  {
   "cell_type": "code",
   "execution_count": 1,
   "metadata": {
    "collapsed": false
   },
   "outputs": [
    {
     "name": "stdout",
     "output_type": "stream",
     "text": [
      "/Users/azizmamatov/Downloads\r\n"
     ]
    }
   ],
   "source": [
    "!pwd"
   ]
  },
  {
   "cell_type": "code",
   "execution_count": 2,
   "metadata": {
    "collapsed": false
   },
   "outputs": [],
   "source": [
    "import pandas as pd\n",
    "import numpy as np\n",
    "import math\n",
    "import json\n",
    "%matplotlib inline\n",
    "\n",
    "# read in the json files\n",
    "portfolio = pd.read_json('portfolio.json', orient='records', lines=True)\n",
    "profile = pd.read_json('profile.json', orient='records', lines=True)\n",
    "transcript = pd.read_json('transcript.json', orient='records', lines=True)"
   ]
  },
  {
   "cell_type": "code",
   "execution_count": 81,
   "metadata": {
    "collapsed": true
   },
   "outputs": [],
   "source": [
    "# ignore warning notes as they negatively affect the presenation\n",
    "import warnings; warnings.simplefilter('ignore')\n",
    "import matplotlib.pyplot as plt\n",
    "import seaborn as sns\n",
    "from sklearn.linear_model import LinearRegression\n",
    "from sklearn.linear_model import LogisticRegression\n",
    "from sklearn.model_selection import train_test_split\n",
    "from sklearn.metrics import r2_score, mean_squared_error, roc_auc_score\n",
    "from sklearn.preprocessing import StandardScaler\n",
    "from sklearn.model_selection import GridSearchCV\n",
    "%matplotlib inline"
   ]
  },
  {
   "cell_type": "code",
   "execution_count": 73,
   "metadata": {
    "collapsed": true
   },
   "outputs": [],
   "source": [
    "from catboost import CatBoostClassifier"
   ]
  },
  {
   "cell_type": "code",
   "execution_count": 5,
   "metadata": {
    "collapsed": true
   },
   "outputs": [],
   "source": [
    "pd.set_option('display.width', 1000000000)\n",
    "pd.set_option('max_colwidth', 500000)\n",
    "pd.set_option(\"display.max_columns\", 101)"
   ]
  },
  {
   "cell_type": "markdown",
   "metadata": {},
   "source": [
    "Portfolio data frame has description of the offers and can be joined with transactions data"
   ]
  },
  {
   "cell_type": "code",
   "execution_count": 6,
   "metadata": {
    "collapsed": false,
    "scrolled": true
   },
   "outputs": [
    {
     "data": {
      "text/html": [
       "<div>\n",
       "<style scoped>\n",
       "    .dataframe tbody tr th:only-of-type {\n",
       "        vertical-align: middle;\n",
       "    }\n",
       "\n",
       "    .dataframe tbody tr th {\n",
       "        vertical-align: top;\n",
       "    }\n",
       "\n",
       "    .dataframe thead th {\n",
       "        text-align: right;\n",
       "    }\n",
       "</style>\n",
       "<table border=\"1\" class=\"dataframe\">\n",
       "  <thead>\n",
       "    <tr style=\"text-align: right;\">\n",
       "      <th></th>\n",
       "      <th>channels</th>\n",
       "      <th>difficulty</th>\n",
       "      <th>duration</th>\n",
       "      <th>id</th>\n",
       "      <th>offer_type</th>\n",
       "      <th>reward</th>\n",
       "    </tr>\n",
       "  </thead>\n",
       "  <tbody>\n",
       "    <tr>\n",
       "      <th>0</th>\n",
       "      <td>[email, mobile, social]</td>\n",
       "      <td>10</td>\n",
       "      <td>7</td>\n",
       "      <td>ae264e3637204a6fb9bb56bc8210ddfd</td>\n",
       "      <td>bogo</td>\n",
       "      <td>10</td>\n",
       "    </tr>\n",
       "    <tr>\n",
       "      <th>1</th>\n",
       "      <td>[web, email, mobile, social]</td>\n",
       "      <td>10</td>\n",
       "      <td>5</td>\n",
       "      <td>4d5c57ea9a6940dd891ad53e9dbe8da0</td>\n",
       "      <td>bogo</td>\n",
       "      <td>10</td>\n",
       "    </tr>\n",
       "    <tr>\n",
       "      <th>2</th>\n",
       "      <td>[web, email, mobile]</td>\n",
       "      <td>0</td>\n",
       "      <td>4</td>\n",
       "      <td>3f207df678b143eea3cee63160fa8bed</td>\n",
       "      <td>informational</td>\n",
       "      <td>0</td>\n",
       "    </tr>\n",
       "    <tr>\n",
       "      <th>3</th>\n",
       "      <td>[web, email, mobile]</td>\n",
       "      <td>5</td>\n",
       "      <td>7</td>\n",
       "      <td>9b98b8c7a33c4b65b9aebfe6a799e6d9</td>\n",
       "      <td>bogo</td>\n",
       "      <td>5</td>\n",
       "    </tr>\n",
       "    <tr>\n",
       "      <th>4</th>\n",
       "      <td>[web, email]</td>\n",
       "      <td>20</td>\n",
       "      <td>10</td>\n",
       "      <td>0b1e1539f2cc45b7b9fa7c272da2e1d7</td>\n",
       "      <td>discount</td>\n",
       "      <td>5</td>\n",
       "    </tr>\n",
       "    <tr>\n",
       "      <th>5</th>\n",
       "      <td>[web, email, mobile, social]</td>\n",
       "      <td>7</td>\n",
       "      <td>7</td>\n",
       "      <td>2298d6c36e964ae4a3e7e9706d1fb8c2</td>\n",
       "      <td>discount</td>\n",
       "      <td>3</td>\n",
       "    </tr>\n",
       "    <tr>\n",
       "      <th>6</th>\n",
       "      <td>[web, email, mobile, social]</td>\n",
       "      <td>10</td>\n",
       "      <td>10</td>\n",
       "      <td>fafdcd668e3743c1bb461111dcafc2a4</td>\n",
       "      <td>discount</td>\n",
       "      <td>2</td>\n",
       "    </tr>\n",
       "    <tr>\n",
       "      <th>7</th>\n",
       "      <td>[email, mobile, social]</td>\n",
       "      <td>0</td>\n",
       "      <td>3</td>\n",
       "      <td>5a8bc65990b245e5a138643cd4eb9837</td>\n",
       "      <td>informational</td>\n",
       "      <td>0</td>\n",
       "    </tr>\n",
       "    <tr>\n",
       "      <th>8</th>\n",
       "      <td>[web, email, mobile, social]</td>\n",
       "      <td>5</td>\n",
       "      <td>5</td>\n",
       "      <td>f19421c1d4aa40978ebb69ca19b0e20d</td>\n",
       "      <td>bogo</td>\n",
       "      <td>5</td>\n",
       "    </tr>\n",
       "    <tr>\n",
       "      <th>9</th>\n",
       "      <td>[web, email, mobile]</td>\n",
       "      <td>10</td>\n",
       "      <td>7</td>\n",
       "      <td>2906b810c7d4411798c6938adc9daaa5</td>\n",
       "      <td>discount</td>\n",
       "      <td>2</td>\n",
       "    </tr>\n",
       "  </tbody>\n",
       "</table>\n",
       "</div>"
      ],
      "text/plain": [
       "                       channels  difficulty  duration                                id     offer_type  reward\n",
       "0       [email, mobile, social]          10         7  ae264e3637204a6fb9bb56bc8210ddfd           bogo      10\n",
       "1  [web, email, mobile, social]          10         5  4d5c57ea9a6940dd891ad53e9dbe8da0           bogo      10\n",
       "2          [web, email, mobile]           0         4  3f207df678b143eea3cee63160fa8bed  informational       0\n",
       "3          [web, email, mobile]           5         7  9b98b8c7a33c4b65b9aebfe6a799e6d9           bogo       5\n",
       "4                  [web, email]          20        10  0b1e1539f2cc45b7b9fa7c272da2e1d7       discount       5\n",
       "5  [web, email, mobile, social]           7         7  2298d6c36e964ae4a3e7e9706d1fb8c2       discount       3\n",
       "6  [web, email, mobile, social]          10        10  fafdcd668e3743c1bb461111dcafc2a4       discount       2\n",
       "7       [email, mobile, social]           0         3  5a8bc65990b245e5a138643cd4eb9837  informational       0\n",
       "8  [web, email, mobile, social]           5         5  f19421c1d4aa40978ebb69ca19b0e20d           bogo       5\n",
       "9          [web, email, mobile]          10         7  2906b810c7d4411798c6938adc9daaa5       discount       2"
      ]
     },
     "execution_count": 6,
     "metadata": {},
     "output_type": "execute_result"
    }
   ],
   "source": [
    "portfolio"
   ]
  },
  {
   "cell_type": "code",
   "execution_count": 7,
   "metadata": {
    "collapsed": false,
    "scrolled": true
   },
   "outputs": [
    {
     "data": {
      "text/html": [
       "<div>\n",
       "<style scoped>\n",
       "    .dataframe tbody tr th:only-of-type {\n",
       "        vertical-align: middle;\n",
       "    }\n",
       "\n",
       "    .dataframe tbody tr th {\n",
       "        vertical-align: top;\n",
       "    }\n",
       "\n",
       "    .dataframe thead th {\n",
       "        text-align: right;\n",
       "    }\n",
       "</style>\n",
       "<table border=\"1\" class=\"dataframe\">\n",
       "  <thead>\n",
       "    <tr style=\"text-align: right;\">\n",
       "      <th></th>\n",
       "      <th>difficulty</th>\n",
       "      <th>duration</th>\n",
       "      <th>reward</th>\n",
       "    </tr>\n",
       "  </thead>\n",
       "  <tbody>\n",
       "    <tr>\n",
       "      <th>count</th>\n",
       "      <td>10.000000</td>\n",
       "      <td>10.000000</td>\n",
       "      <td>10.000000</td>\n",
       "    </tr>\n",
       "    <tr>\n",
       "      <th>mean</th>\n",
       "      <td>7.700000</td>\n",
       "      <td>6.500000</td>\n",
       "      <td>4.200000</td>\n",
       "    </tr>\n",
       "    <tr>\n",
       "      <th>std</th>\n",
       "      <td>5.831905</td>\n",
       "      <td>2.321398</td>\n",
       "      <td>3.583915</td>\n",
       "    </tr>\n",
       "    <tr>\n",
       "      <th>min</th>\n",
       "      <td>0.000000</td>\n",
       "      <td>3.000000</td>\n",
       "      <td>0.000000</td>\n",
       "    </tr>\n",
       "    <tr>\n",
       "      <th>25%</th>\n",
       "      <td>5.000000</td>\n",
       "      <td>5.000000</td>\n",
       "      <td>2.000000</td>\n",
       "    </tr>\n",
       "    <tr>\n",
       "      <th>50%</th>\n",
       "      <td>8.500000</td>\n",
       "      <td>7.000000</td>\n",
       "      <td>4.000000</td>\n",
       "    </tr>\n",
       "    <tr>\n",
       "      <th>75%</th>\n",
       "      <td>10.000000</td>\n",
       "      <td>7.000000</td>\n",
       "      <td>5.000000</td>\n",
       "    </tr>\n",
       "    <tr>\n",
       "      <th>max</th>\n",
       "      <td>20.000000</td>\n",
       "      <td>10.000000</td>\n",
       "      <td>10.000000</td>\n",
       "    </tr>\n",
       "  </tbody>\n",
       "</table>\n",
       "</div>"
      ],
      "text/plain": [
       "       difficulty   duration     reward\n",
       "count   10.000000  10.000000  10.000000\n",
       "mean     7.700000   6.500000   4.200000\n",
       "std      5.831905   2.321398   3.583915\n",
       "min      0.000000   3.000000   0.000000\n",
       "25%      5.000000   5.000000   2.000000\n",
       "50%      8.500000   7.000000   4.000000\n",
       "75%     10.000000   7.000000   5.000000\n",
       "max     20.000000  10.000000  10.000000"
      ]
     },
     "execution_count": 7,
     "metadata": {},
     "output_type": "execute_result"
    }
   ],
   "source": [
    "portfolio.describe()"
   ]
  },
  {
   "cell_type": "code",
   "execution_count": 8,
   "metadata": {
    "collapsed": false
   },
   "outputs": [
    {
     "data": {
      "text/plain": [
       "(10, 6)"
      ]
     },
     "execution_count": 8,
     "metadata": {},
     "output_type": "execute_result"
    }
   ],
   "source": [
    "portfolio.shape"
   ]
  },
  {
   "cell_type": "markdown",
   "metadata": {},
   "source": [
    "I need to create dummy variables from the list of strings in columns channels"
   ]
  },
  {
   "cell_type": "code",
   "execution_count": 9,
   "metadata": {
    "collapsed": false
   },
   "outputs": [
    {
     "data": {
      "text/html": [
       "<div>\n",
       "<style scoped>\n",
       "    .dataframe tbody tr th:only-of-type {\n",
       "        vertical-align: middle;\n",
       "    }\n",
       "\n",
       "    .dataframe tbody tr th {\n",
       "        vertical-align: top;\n",
       "    }\n",
       "\n",
       "    .dataframe thead th {\n",
       "        text-align: right;\n",
       "    }\n",
       "</style>\n",
       "<table border=\"1\" class=\"dataframe\">\n",
       "  <thead>\n",
       "    <tr style=\"text-align: right;\">\n",
       "      <th></th>\n",
       "      <th>email</th>\n",
       "      <th>mobile</th>\n",
       "      <th>social</th>\n",
       "      <th>web</th>\n",
       "    </tr>\n",
       "  </thead>\n",
       "  <tbody>\n",
       "    <tr>\n",
       "      <th>0</th>\n",
       "      <td>1</td>\n",
       "      <td>1</td>\n",
       "      <td>1</td>\n",
       "      <td>0</td>\n",
       "    </tr>\n",
       "    <tr>\n",
       "      <th>1</th>\n",
       "      <td>1</td>\n",
       "      <td>1</td>\n",
       "      <td>1</td>\n",
       "      <td>1</td>\n",
       "    </tr>\n",
       "    <tr>\n",
       "      <th>2</th>\n",
       "      <td>1</td>\n",
       "      <td>1</td>\n",
       "      <td>0</td>\n",
       "      <td>1</td>\n",
       "    </tr>\n",
       "    <tr>\n",
       "      <th>3</th>\n",
       "      <td>1</td>\n",
       "      <td>1</td>\n",
       "      <td>0</td>\n",
       "      <td>1</td>\n",
       "    </tr>\n",
       "    <tr>\n",
       "      <th>4</th>\n",
       "      <td>1</td>\n",
       "      <td>0</td>\n",
       "      <td>0</td>\n",
       "      <td>1</td>\n",
       "    </tr>\n",
       "    <tr>\n",
       "      <th>5</th>\n",
       "      <td>1</td>\n",
       "      <td>1</td>\n",
       "      <td>1</td>\n",
       "      <td>1</td>\n",
       "    </tr>\n",
       "    <tr>\n",
       "      <th>6</th>\n",
       "      <td>1</td>\n",
       "      <td>1</td>\n",
       "      <td>1</td>\n",
       "      <td>1</td>\n",
       "    </tr>\n",
       "    <tr>\n",
       "      <th>7</th>\n",
       "      <td>1</td>\n",
       "      <td>1</td>\n",
       "      <td>1</td>\n",
       "      <td>0</td>\n",
       "    </tr>\n",
       "    <tr>\n",
       "      <th>8</th>\n",
       "      <td>1</td>\n",
       "      <td>1</td>\n",
       "      <td>1</td>\n",
       "      <td>1</td>\n",
       "    </tr>\n",
       "    <tr>\n",
       "      <th>9</th>\n",
       "      <td>1</td>\n",
       "      <td>1</td>\n",
       "      <td>0</td>\n",
       "      <td>1</td>\n",
       "    </tr>\n",
       "  </tbody>\n",
       "</table>\n",
       "</div>"
      ],
      "text/plain": [
       "   email  mobile  social  web\n",
       "0      1       1       1    0\n",
       "1      1       1       1    1\n",
       "2      1       1       0    1\n",
       "3      1       1       0    1\n",
       "4      1       0       0    1\n",
       "5      1       1       1    1\n",
       "6      1       1       1    1\n",
       "7      1       1       1    0\n",
       "8      1       1       1    1\n",
       "9      1       1       0    1"
      ]
     },
     "execution_count": 9,
     "metadata": {},
     "output_type": "execute_result"
    }
   ],
   "source": [
    "pd.get_dummies(pd.DataFrame(portfolio['channels'].tolist()).stack(). \\\n",
    "               reset_index(level=1, drop=True)).groupby(level=0).sum()"
   ]
  },
  {
   "cell_type": "code",
   "execution_count": 10,
   "metadata": {
    "collapsed": true
   },
   "outputs": [],
   "source": [
    "portfolio = pd.concat([portfolio, pd.get_dummies(pd.DataFrame(portfolio['channels'].tolist()).stack(). \\\n",
    "               reset_index(level=1, drop=True)).groupby(level=0).sum()], axis=1)\n",
    "portfolio.drop(columns='channels', inplace=True)"
   ]
  },
  {
   "cell_type": "code",
   "execution_count": 11,
   "metadata": {
    "collapsed": false
   },
   "outputs": [
    {
     "data": {
      "text/html": [
       "<div>\n",
       "<style scoped>\n",
       "    .dataframe tbody tr th:only-of-type {\n",
       "        vertical-align: middle;\n",
       "    }\n",
       "\n",
       "    .dataframe tbody tr th {\n",
       "        vertical-align: top;\n",
       "    }\n",
       "\n",
       "    .dataframe thead th {\n",
       "        text-align: right;\n",
       "    }\n",
       "</style>\n",
       "<table border=\"1\" class=\"dataframe\">\n",
       "  <thead>\n",
       "    <tr style=\"text-align: right;\">\n",
       "      <th></th>\n",
       "      <th>difficulty</th>\n",
       "      <th>duration</th>\n",
       "      <th>id</th>\n",
       "      <th>offer_type</th>\n",
       "      <th>reward</th>\n",
       "      <th>email</th>\n",
       "      <th>mobile</th>\n",
       "      <th>social</th>\n",
       "      <th>web</th>\n",
       "    </tr>\n",
       "  </thead>\n",
       "  <tbody>\n",
       "    <tr>\n",
       "      <th>0</th>\n",
       "      <td>10</td>\n",
       "      <td>7</td>\n",
       "      <td>ae264e3637204a6fb9bb56bc8210ddfd</td>\n",
       "      <td>bogo</td>\n",
       "      <td>10</td>\n",
       "      <td>1</td>\n",
       "      <td>1</td>\n",
       "      <td>1</td>\n",
       "      <td>0</td>\n",
       "    </tr>\n",
       "    <tr>\n",
       "      <th>1</th>\n",
       "      <td>10</td>\n",
       "      <td>5</td>\n",
       "      <td>4d5c57ea9a6940dd891ad53e9dbe8da0</td>\n",
       "      <td>bogo</td>\n",
       "      <td>10</td>\n",
       "      <td>1</td>\n",
       "      <td>1</td>\n",
       "      <td>1</td>\n",
       "      <td>1</td>\n",
       "    </tr>\n",
       "    <tr>\n",
       "      <th>2</th>\n",
       "      <td>0</td>\n",
       "      <td>4</td>\n",
       "      <td>3f207df678b143eea3cee63160fa8bed</td>\n",
       "      <td>informational</td>\n",
       "      <td>0</td>\n",
       "      <td>1</td>\n",
       "      <td>1</td>\n",
       "      <td>0</td>\n",
       "      <td>1</td>\n",
       "    </tr>\n",
       "    <tr>\n",
       "      <th>3</th>\n",
       "      <td>5</td>\n",
       "      <td>7</td>\n",
       "      <td>9b98b8c7a33c4b65b9aebfe6a799e6d9</td>\n",
       "      <td>bogo</td>\n",
       "      <td>5</td>\n",
       "      <td>1</td>\n",
       "      <td>1</td>\n",
       "      <td>0</td>\n",
       "      <td>1</td>\n",
       "    </tr>\n",
       "    <tr>\n",
       "      <th>4</th>\n",
       "      <td>20</td>\n",
       "      <td>10</td>\n",
       "      <td>0b1e1539f2cc45b7b9fa7c272da2e1d7</td>\n",
       "      <td>discount</td>\n",
       "      <td>5</td>\n",
       "      <td>1</td>\n",
       "      <td>0</td>\n",
       "      <td>0</td>\n",
       "      <td>1</td>\n",
       "    </tr>\n",
       "  </tbody>\n",
       "</table>\n",
       "</div>"
      ],
      "text/plain": [
       "   difficulty  duration                                id     offer_type  reward  email  mobile  social  web\n",
       "0          10         7  ae264e3637204a6fb9bb56bc8210ddfd           bogo      10      1       1       1    0\n",
       "1          10         5  4d5c57ea9a6940dd891ad53e9dbe8da0           bogo      10      1       1       1    1\n",
       "2           0         4  3f207df678b143eea3cee63160fa8bed  informational       0      1       1       0    1\n",
       "3           5         7  9b98b8c7a33c4b65b9aebfe6a799e6d9           bogo       5      1       1       0    1\n",
       "4          20        10  0b1e1539f2cc45b7b9fa7c272da2e1d7       discount       5      1       0       0    1"
      ]
     },
     "execution_count": 11,
     "metadata": {},
     "output_type": "execute_result"
    }
   ],
   "source": [
    "portfolio.head()"
   ]
  },
  {
   "cell_type": "markdown",
   "metadata": {},
   "source": [
    "### Profile data \n",
    "- 17K customers with missing data for Income, gender and inaccurate information on age;\n",
    "- 2.1K of customers have no real age, income or gender\n",
    "- We will separate them into special category and deal with data"
   ]
  },
  {
   "cell_type": "code",
   "execution_count": 12,
   "metadata": {
    "collapsed": false,
    "scrolled": true
   },
   "outputs": [
    {
     "data": {
      "text/html": [
       "<div>\n",
       "<style scoped>\n",
       "    .dataframe tbody tr th:only-of-type {\n",
       "        vertical-align: middle;\n",
       "    }\n",
       "\n",
       "    .dataframe tbody tr th {\n",
       "        vertical-align: top;\n",
       "    }\n",
       "\n",
       "    .dataframe thead th {\n",
       "        text-align: right;\n",
       "    }\n",
       "</style>\n",
       "<table border=\"1\" class=\"dataframe\">\n",
       "  <thead>\n",
       "    <tr style=\"text-align: right;\">\n",
       "      <th></th>\n",
       "      <th>age</th>\n",
       "      <th>became_member_on</th>\n",
       "      <th>gender</th>\n",
       "      <th>id</th>\n",
       "      <th>income</th>\n",
       "    </tr>\n",
       "  </thead>\n",
       "  <tbody>\n",
       "    <tr>\n",
       "      <th>0</th>\n",
       "      <td>118</td>\n",
       "      <td>20170212</td>\n",
       "      <td>None</td>\n",
       "      <td>68be06ca386d4c31939f3a4f0e3dd783</td>\n",
       "      <td>NaN</td>\n",
       "    </tr>\n",
       "    <tr>\n",
       "      <th>1</th>\n",
       "      <td>55</td>\n",
       "      <td>20170715</td>\n",
       "      <td>F</td>\n",
       "      <td>0610b486422d4921ae7d2bf64640c50b</td>\n",
       "      <td>112000.0</td>\n",
       "    </tr>\n",
       "    <tr>\n",
       "      <th>2</th>\n",
       "      <td>118</td>\n",
       "      <td>20180712</td>\n",
       "      <td>None</td>\n",
       "      <td>38fe809add3b4fcf9315a9694bb96ff5</td>\n",
       "      <td>NaN</td>\n",
       "    </tr>\n",
       "    <tr>\n",
       "      <th>3</th>\n",
       "      <td>75</td>\n",
       "      <td>20170509</td>\n",
       "      <td>F</td>\n",
       "      <td>78afa995795e4d85b5d9ceeca43f5fef</td>\n",
       "      <td>100000.0</td>\n",
       "    </tr>\n",
       "    <tr>\n",
       "      <th>4</th>\n",
       "      <td>118</td>\n",
       "      <td>20170804</td>\n",
       "      <td>None</td>\n",
       "      <td>a03223e636434f42ac4c3df47e8bac43</td>\n",
       "      <td>NaN</td>\n",
       "    </tr>\n",
       "  </tbody>\n",
       "</table>\n",
       "</div>"
      ],
      "text/plain": [
       "   age  became_member_on gender                                id    income\n",
       "0  118          20170212   None  68be06ca386d4c31939f3a4f0e3dd783       NaN\n",
       "1   55          20170715      F  0610b486422d4921ae7d2bf64640c50b  112000.0\n",
       "2  118          20180712   None  38fe809add3b4fcf9315a9694bb96ff5       NaN\n",
       "3   75          20170509      F  78afa995795e4d85b5d9ceeca43f5fef  100000.0\n",
       "4  118          20170804   None  a03223e636434f42ac4c3df47e8bac43       NaN"
      ]
     },
     "execution_count": 12,
     "metadata": {},
     "output_type": "execute_result"
    }
   ],
   "source": [
    "profile.head()"
   ]
  },
  {
   "cell_type": "code",
   "execution_count": 13,
   "metadata": {
    "collapsed": false,
    "scrolled": false
   },
   "outputs": [
    {
     "data": {
      "text/html": [
       "<div>\n",
       "<style scoped>\n",
       "    .dataframe tbody tr th:only-of-type {\n",
       "        vertical-align: middle;\n",
       "    }\n",
       "\n",
       "    .dataframe tbody tr th {\n",
       "        vertical-align: top;\n",
       "    }\n",
       "\n",
       "    .dataframe thead th {\n",
       "        text-align: right;\n",
       "    }\n",
       "</style>\n",
       "<table border=\"1\" class=\"dataframe\">\n",
       "  <thead>\n",
       "    <tr style=\"text-align: right;\">\n",
       "      <th></th>\n",
       "      <th>age</th>\n",
       "      <th>became_member_on</th>\n",
       "      <th>income</th>\n",
       "    </tr>\n",
       "  </thead>\n",
       "  <tbody>\n",
       "    <tr>\n",
       "      <th>count</th>\n",
       "      <td>17000.000000</td>\n",
       "      <td>1.700000e+04</td>\n",
       "      <td>14825.000000</td>\n",
       "    </tr>\n",
       "    <tr>\n",
       "      <th>mean</th>\n",
       "      <td>62.531412</td>\n",
       "      <td>2.016703e+07</td>\n",
       "      <td>65404.991568</td>\n",
       "    </tr>\n",
       "    <tr>\n",
       "      <th>std</th>\n",
       "      <td>26.738580</td>\n",
       "      <td>1.167750e+04</td>\n",
       "      <td>21598.299410</td>\n",
       "    </tr>\n",
       "    <tr>\n",
       "      <th>min</th>\n",
       "      <td>18.000000</td>\n",
       "      <td>2.013073e+07</td>\n",
       "      <td>30000.000000</td>\n",
       "    </tr>\n",
       "    <tr>\n",
       "      <th>25%</th>\n",
       "      <td>45.000000</td>\n",
       "      <td>2.016053e+07</td>\n",
       "      <td>49000.000000</td>\n",
       "    </tr>\n",
       "    <tr>\n",
       "      <th>50%</th>\n",
       "      <td>58.000000</td>\n",
       "      <td>2.017080e+07</td>\n",
       "      <td>64000.000000</td>\n",
       "    </tr>\n",
       "    <tr>\n",
       "      <th>75%</th>\n",
       "      <td>73.000000</td>\n",
       "      <td>2.017123e+07</td>\n",
       "      <td>80000.000000</td>\n",
       "    </tr>\n",
       "    <tr>\n",
       "      <th>max</th>\n",
       "      <td>118.000000</td>\n",
       "      <td>2.018073e+07</td>\n",
       "      <td>120000.000000</td>\n",
       "    </tr>\n",
       "  </tbody>\n",
       "</table>\n",
       "</div>"
      ],
      "text/plain": [
       "                age  became_member_on         income\n",
       "count  17000.000000      1.700000e+04   14825.000000\n",
       "mean      62.531412      2.016703e+07   65404.991568\n",
       "std       26.738580      1.167750e+04   21598.299410\n",
       "min       18.000000      2.013073e+07   30000.000000\n",
       "25%       45.000000      2.016053e+07   49000.000000\n",
       "50%       58.000000      2.017080e+07   64000.000000\n",
       "75%       73.000000      2.017123e+07   80000.000000\n",
       "max      118.000000      2.018073e+07  120000.000000"
      ]
     },
     "execution_count": 13,
     "metadata": {},
     "output_type": "execute_result"
    }
   ],
   "source": [
    "profile.describe()"
   ]
  },
  {
   "cell_type": "code",
   "execution_count": 14,
   "metadata": {
    "collapsed": false
   },
   "outputs": [],
   "source": [
    "profile['became_member_on']=pd.to_datetime(profile['became_member_on'], format='%Y%m%d')"
   ]
  },
  {
   "cell_type": "code",
   "execution_count": 15,
   "metadata": {
    "collapsed": false,
    "scrolled": true
   },
   "outputs": [
    {
     "data": {
      "text/plain": [
       "<matplotlib.axes._subplots.AxesSubplot at 0x11b8cebe0>"
      ]
     },
     "execution_count": 15,
     "metadata": {},
     "output_type": "execute_result"
    },
    {
     "data": {
      "image/png": "[encoded data removed]",
      "text/plain": [
       "<Figure size 432x288 with 1 Axes>"
      ]
     },
     "metadata": {
      "needs_background": "light"
     },
     "output_type": "display_data"
    }
   ],
   "source": [
    "# Large chunk of data is clearly incorrect, as the age close to 100 and over it. Need to replace it with the average\n",
    "profile['age'].hist()"
   ]
  },
  {
   "cell_type": "markdown",
   "metadata": {},
   "source": [
    "#### Data with missing income: all age is 118, which is non-senscial and is a candidate to be filtered out. Age 118 income is null and also their gender is None. \n"
   ]
  },
  {
   "cell_type": "code",
   "execution_count": 16,
   "metadata": {
    "collapsed": false
   },
   "outputs": [
    {
     "data": {
      "text/html": [
       "<div>\n",
       "<style scoped>\n",
       "    .dataframe tbody tr th:only-of-type {\n",
       "        vertical-align: middle;\n",
       "    }\n",
       "\n",
       "    .dataframe tbody tr th {\n",
       "        vertical-align: top;\n",
       "    }\n",
       "\n",
       "    .dataframe thead th {\n",
       "        text-align: right;\n",
       "    }\n",
       "</style>\n",
       "<table border=\"1\" class=\"dataframe\">\n",
       "  <thead>\n",
       "    <tr style=\"text-align: right;\">\n",
       "      <th></th>\n",
       "      <th>age</th>\n",
       "      <th>became_member_on</th>\n",
       "      <th>gender</th>\n",
       "      <th>id</th>\n",
       "      <th>income</th>\n",
       "    </tr>\n",
       "  </thead>\n",
       "  <tbody>\n",
       "    <tr>\n",
       "      <th>0</th>\n",
       "      <td>118</td>\n",
       "      <td>2017-02-12</td>\n",
       "      <td>None</td>\n",
       "      <td>68be06ca386d4c31939f3a4f0e3dd783</td>\n",
       "      <td>NaN</td>\n",
       "    </tr>\n",
       "    <tr>\n",
       "      <th>2</th>\n",
       "      <td>118</td>\n",
       "      <td>2018-07-12</td>\n",
       "      <td>None</td>\n",
       "      <td>38fe809add3b4fcf9315a9694bb96ff5</td>\n",
       "      <td>NaN</td>\n",
       "    </tr>\n",
       "    <tr>\n",
       "      <th>4</th>\n",
       "      <td>118</td>\n",
       "      <td>2017-08-04</td>\n",
       "      <td>None</td>\n",
       "      <td>a03223e636434f42ac4c3df47e8bac43</td>\n",
       "      <td>NaN</td>\n",
       "    </tr>\n",
       "    <tr>\n",
       "      <th>6</th>\n",
       "      <td>118</td>\n",
       "      <td>2017-09-25</td>\n",
       "      <td>None</td>\n",
       "      <td>8ec6ce2a7e7949b1bf142def7d0e0586</td>\n",
       "      <td>NaN</td>\n",
       "    </tr>\n",
       "    <tr>\n",
       "      <th>7</th>\n",
       "      <td>118</td>\n",
       "      <td>2017-10-02</td>\n",
       "      <td>None</td>\n",
       "      <td>68617ca6246f4fbc85e91a2a49552598</td>\n",
       "      <td>NaN</td>\n",
       "    </tr>\n",
       "  </tbody>\n",
       "</table>\n",
       "</div>"
      ],
      "text/plain": [
       "   age became_member_on gender                                id  income\n",
       "0  118       2017-02-12   None  68be06ca386d4c31939f3a4f0e3dd783     NaN\n",
       "2  118       2018-07-12   None  38fe809add3b4fcf9315a9694bb96ff5     NaN\n",
       "4  118       2017-08-04   None  a03223e636434f42ac4c3df47e8bac43     NaN\n",
       "6  118       2017-09-25   None  8ec6ce2a7e7949b1bf142def7d0e0586     NaN\n",
       "7  118       2017-10-02   None  68617ca6246f4fbc85e91a2a49552598     NaN"
      ]
     },
     "execution_count": 16,
     "metadata": {},
     "output_type": "execute_result"
    }
   ],
   "source": [
    "profile[profile['income'].isnull()].head()"
   ]
  },
  {
   "cell_type": "code",
   "execution_count": 17,
   "metadata": {
    "collapsed": false
   },
   "outputs": [
    {
     "data": {
      "text/plain": [
       "NaN    2175\n",
       "Name: gender, dtype: int64"
      ]
     },
     "execution_count": 17,
     "metadata": {},
     "output_type": "execute_result"
    }
   ],
   "source": [
    "profile['gender'][profile['income'].isnull()].value_counts(dropna=False)"
   ]
  },
  {
   "cell_type": "markdown",
   "metadata": {},
   "source": [
    "All income null users are aged 118"
   ]
  },
  {
   "cell_type": "code",
   "execution_count": 18,
   "metadata": {
    "collapsed": false,
    "scrolled": true
   },
   "outputs": [
    {
     "data": {
      "text/plain": [
       "array([[<matplotlib.axes._subplots.AxesSubplot object at 0x11b8ece10>,\n",
       "        <matplotlib.axes._subplots.AxesSubplot object at 0x11b9264e0>]],\n",
       "      dtype=object)"
      ]
     },
     "execution_count": 18,
     "metadata": {},
     "output_type": "execute_result"
    },
    {
     "data": {
      "image/png": "[encoded data removed]",
      "text/plain": [
       "<Figure size 432x288 with 2 Axes>"
      ]
     },
     "metadata": {
      "needs_background": "light"
     },
     "output_type": "display_data"
    }
   ],
   "source": [
    "profile[profile['income'].isnull()].hist()"
   ]
  },
  {
   "cell_type": "markdown",
   "metadata": {},
   "source": [
    "All age 118 have income of null"
   ]
  },
  {
   "cell_type": "code",
   "execution_count": 19,
   "metadata": {
    "collapsed": false
   },
   "outputs": [
    {
     "data": {
      "text/plain": [
       "0"
      ]
     },
     "execution_count": 19,
     "metadata": {},
     "output_type": "execute_result"
    }
   ],
   "source": [
    "np.sum(profile[profile['age']==118].index != profile[profile['income'].isnull()].index)"
   ]
  },
  {
   "cell_type": "markdown",
   "metadata": {},
   "source": [
    "All age 118 have nan gender"
   ]
  },
  {
   "cell_type": "code",
   "execution_count": 20,
   "metadata": {
    "collapsed": false
   },
   "outputs": [
    {
     "data": {
      "text/plain": [
       "NaN    2175\n",
       "Name: gender, dtype: int64"
      ]
     },
     "execution_count": 20,
     "metadata": {},
     "output_type": "execute_result"
    }
   ],
   "source": [
    "profile['gender'][profile['age']==118].value_counts(dropna=False)"
   ]
  },
  {
   "cell_type": "markdown",
   "metadata": {},
   "source": [
    "Where gender is None, there are different age groups"
   ]
  },
  {
   "cell_type": "code",
   "execution_count": 21,
   "metadata": {
    "collapsed": false,
    "scrolled": false
   },
   "outputs": [
    {
     "data": {
      "text/plain": [
       "<matplotlib.axes._subplots.AxesSubplot at 0x11b910550>"
      ]
     },
     "execution_count": 21,
     "metadata": {},
     "output_type": "execute_result"
    },
    {
     "data": {
      "image/png": "[encoded data removed]",
      "text/plain": [
       "<Figure size 432x288 with 1 Axes>"
      ]
     },
     "metadata": {
      "needs_background": "light"
     },
     "output_type": "display_data"
    }
   ],
   "source": [
    "profile['age'][profile['gender']=='O'].hist()\n",
    "# & (profile['age']==118)"
   ]
  },
  {
   "cell_type": "code",
   "execution_count": 22,
   "metadata": {
    "collapsed": false
   },
   "outputs": [],
   "source": [
    "profile['age']=profile['age'].replace({118:np.nan})"
   ]
  },
  {
   "cell_type": "markdown",
   "metadata": {},
   "source": [
    "Lets keep the persons with 118 age as there are quite few of them and they comprise a demographic group which potentially can be lucrative for targeting. We don't know at this stage whether they are lucrative target or not"
   ]
  },
  {
   "cell_type": "code",
   "execution_count": 23,
   "metadata": {
    "collapsed": false,
    "scrolled": true
   },
   "outputs": [
    {
     "data": {
      "text/html": [
       "<div>\n",
       "<style scoped>\n",
       "    .dataframe tbody tr th:only-of-type {\n",
       "        vertical-align: middle;\n",
       "    }\n",
       "\n",
       "    .dataframe tbody tr th {\n",
       "        vertical-align: top;\n",
       "    }\n",
       "\n",
       "    .dataframe thead th {\n",
       "        text-align: right;\n",
       "    }\n",
       "</style>\n",
       "<table border=\"1\" class=\"dataframe\">\n",
       "  <thead>\n",
       "    <tr style=\"text-align: right;\">\n",
       "      <th></th>\n",
       "      <th>event</th>\n",
       "      <th>person</th>\n",
       "      <th>time</th>\n",
       "      <th>value</th>\n",
       "    </tr>\n",
       "  </thead>\n",
       "  <tbody>\n",
       "    <tr>\n",
       "      <th>0</th>\n",
       "      <td>offer received</td>\n",
       "      <td>78afa995795e4d85b5d9ceeca43f5fef</td>\n",
       "      <td>0</td>\n",
       "      <td>{'offer id': '9b98b8c7a33c4b65b9aebfe6a799e6d9'}</td>\n",
       "    </tr>\n",
       "    <tr>\n",
       "      <th>1</th>\n",
       "      <td>offer received</td>\n",
       "      <td>a03223e636434f42ac4c3df47e8bac43</td>\n",
       "      <td>0</td>\n",
       "      <td>{'offer id': '0b1e1539f2cc45b7b9fa7c272da2e1d7'}</td>\n",
       "    </tr>\n",
       "    <tr>\n",
       "      <th>2</th>\n",
       "      <td>offer received</td>\n",
       "      <td>e2127556f4f64592b11af22de27a7932</td>\n",
       "      <td>0</td>\n",
       "      <td>{'offer id': '2906b810c7d4411798c6938adc9daaa5'}</td>\n",
       "    </tr>\n",
       "    <tr>\n",
       "      <th>3</th>\n",
       "      <td>offer received</td>\n",
       "      <td>8ec6ce2a7e7949b1bf142def7d0e0586</td>\n",
       "      <td>0</td>\n",
       "      <td>{'offer id': 'fafdcd668e3743c1bb461111dcafc2a4'}</td>\n",
       "    </tr>\n",
       "    <tr>\n",
       "      <th>4</th>\n",
       "      <td>offer received</td>\n",
       "      <td>68617ca6246f4fbc85e91a2a49552598</td>\n",
       "      <td>0</td>\n",
       "      <td>{'offer id': '4d5c57ea9a6940dd891ad53e9dbe8da0'}</td>\n",
       "    </tr>\n",
       "  </tbody>\n",
       "</table>\n",
       "</div>"
      ],
      "text/plain": [
       "            event                            person  time                                             value\n",
       "0  offer received  78afa995795e4d85b5d9ceeca43f5fef     0  {'offer id': '9b98b8c7a33c4b65b9aebfe6a799e6d9'}\n",
       "1  offer received  a03223e636434f42ac4c3df47e8bac43     0  {'offer id': '0b1e1539f2cc45b7b9fa7c272da2e1d7'}\n",
       "2  offer received  e2127556f4f64592b11af22de27a7932     0  {'offer id': '2906b810c7d4411798c6938adc9daaa5'}\n",
       "3  offer received  8ec6ce2a7e7949b1bf142def7d0e0586     0  {'offer id': 'fafdcd668e3743c1bb461111dcafc2a4'}\n",
       "4  offer received  68617ca6246f4fbc85e91a2a49552598     0  {'offer id': '4d5c57ea9a6940dd891ad53e9dbe8da0'}"
      ]
     },
     "execution_count": 23,
     "metadata": {},
     "output_type": "execute_result"
    }
   ],
   "source": [
    "transcript.head()"
   ]
  },
  {
   "cell_type": "code",
   "execution_count": 24,
   "metadata": {
    "collapsed": false
   },
   "outputs": [
    {
     "data": {
      "text/plain": [
       "event                 \n",
       "offer completed  12658     {'offer_id': '2906b810c7d4411798c6938adc9daaa5', 'reward': 2}\n",
       "                 12672     {'offer_id': 'fafdcd668e3743c1bb461111dcafc2a4', 'reward': 2}\n",
       "                 12679     {'offer_id': '9b98b8c7a33c4b65b9aebfe6a799e6d9', 'reward': 5}\n",
       "                 12692    {'offer_id': 'ae264e3637204a6fb9bb56bc8210ddfd', 'reward': 10}\n",
       "                 12697    {'offer_id': '4d5c57ea9a6940dd891ad53e9dbe8da0', 'reward': 10}\n",
       "                 12717    {'offer_id': '4d5c57ea9a6940dd891ad53e9dbe8da0', 'reward': 10}\n",
       "                 12721     {'offer_id': '2298d6c36e964ae4a3e7e9706d1fb8c2', 'reward': 3}\n",
       "                 12744     {'offer_id': 'f19421c1d4aa40978ebb69ca19b0e20d', 'reward': 5}\n",
       "                 12764     {'offer_id': '2906b810c7d4411798c6938adc9daaa5', 'reward': 2}\n",
       "                 12767    {'offer_id': '4d5c57ea9a6940dd891ad53e9dbe8da0', 'reward': 10}\n",
       "offer received   0                      {'offer id': '9b98b8c7a33c4b65b9aebfe6a799e6d9'}\n",
       "                 1                      {'offer id': '0b1e1539f2cc45b7b9fa7c272da2e1d7'}\n",
       "                 2                      {'offer id': '2906b810c7d4411798c6938adc9daaa5'}\n",
       "                 3                      {'offer id': 'fafdcd668e3743c1bb461111dcafc2a4'}\n",
       "                 4                      {'offer id': '4d5c57ea9a6940dd891ad53e9dbe8da0'}\n",
       "                 5                      {'offer id': 'f19421c1d4aa40978ebb69ca19b0e20d'}\n",
       "                 6                      {'offer id': '2298d6c36e964ae4a3e7e9706d1fb8c2'}\n",
       "                 7                      {'offer id': '3f207df678b143eea3cee63160fa8bed'}\n",
       "                 8                      {'offer id': '0b1e1539f2cc45b7b9fa7c272da2e1d7'}\n",
       "                 9                      {'offer id': '0b1e1539f2cc45b7b9fa7c272da2e1d7'}\n",
       "offer viewed     12650                  {'offer id': 'f19421c1d4aa40978ebb69ca19b0e20d'}\n",
       "                 12651                  {'offer id': '5a8bc65990b245e5a138643cd4eb9837'}\n",
       "                 12652                  {'offer id': '4d5c57ea9a6940dd891ad53e9dbe8da0'}\n",
       "                 12653                  {'offer id': 'ae264e3637204a6fb9bb56bc8210ddfd'}\n",
       "                 12655                  {'offer id': '5a8bc65990b245e5a138643cd4eb9837'}\n",
       "                 12656                  {'offer id': '2906b810c7d4411798c6938adc9daaa5'}\n",
       "                 12660                  {'offer id': '2298d6c36e964ae4a3e7e9706d1fb8c2'}\n",
       "                 12661                  {'offer id': '2298d6c36e964ae4a3e7e9706d1fb8c2'}\n",
       "                 12662                  {'offer id': 'f19421c1d4aa40978ebb69ca19b0e20d'}\n",
       "                 12663                  {'offer id': 'fafdcd668e3743c1bb461111dcafc2a4'}\n",
       "transaction      12654                                    {'amount': 0.8300000000000001}\n",
       "                 12657                                                 {'amount': 34.56}\n",
       "                 12659                                                 {'amount': 13.23}\n",
       "                 12670                                                 {'amount': 19.51}\n",
       "                 12671                                                 {'amount': 18.97}\n",
       "                 12678                                                  {'amount': 33.9}\n",
       "                 12686                                                  {'amount': 0.22}\n",
       "                 12687                                                 {'amount': 18.59}\n",
       "                 12691                                                 {'amount': 18.01}\n",
       "                 12696                                                 {'amount': 19.11}\n",
       "Name: value, dtype: object"
      ]
     },
     "execution_count": 24,
     "metadata": {},
     "output_type": "execute_result"
    }
   ],
   "source": [
    "pd.set_option('max_colwidth', 500000)\n",
    "transcript.groupby('event').apply(lambda x: x.iloc[:10]['value'])"
   ]
  },
  {
   "cell_type": "code",
   "execution_count": 25,
   "metadata": {
    "collapsed": false
   },
   "outputs": [
    {
     "data": {
      "text/html": [
       "<div>\n",
       "<style scoped>\n",
       "    .dataframe tbody tr th:only-of-type {\n",
       "        vertical-align: middle;\n",
       "    }\n",
       "\n",
       "    .dataframe tbody tr th {\n",
       "        vertical-align: top;\n",
       "    }\n",
       "\n",
       "    .dataframe thead th {\n",
       "        text-align: right;\n",
       "    }\n",
       "</style>\n",
       "<table border=\"1\" class=\"dataframe\">\n",
       "  <thead>\n",
       "    <tr style=\"text-align: right;\">\n",
       "      <th></th>\n",
       "      <th>time</th>\n",
       "    </tr>\n",
       "  </thead>\n",
       "  <tbody>\n",
       "    <tr>\n",
       "      <th>count</th>\n",
       "      <td>306534.000000</td>\n",
       "    </tr>\n",
       "    <tr>\n",
       "      <th>mean</th>\n",
       "      <td>366.382940</td>\n",
       "    </tr>\n",
       "    <tr>\n",
       "      <th>std</th>\n",
       "      <td>200.326314</td>\n",
       "    </tr>\n",
       "    <tr>\n",
       "      <th>min</th>\n",
       "      <td>0.000000</td>\n",
       "    </tr>\n",
       "    <tr>\n",
       "      <th>25%</th>\n",
       "      <td>186.000000</td>\n",
       "    </tr>\n",
       "    <tr>\n",
       "      <th>50%</th>\n",
       "      <td>408.000000</td>\n",
       "    </tr>\n",
       "    <tr>\n",
       "      <th>75%</th>\n",
       "      <td>528.000000</td>\n",
       "    </tr>\n",
       "    <tr>\n",
       "      <th>max</th>\n",
       "      <td>714.000000</td>\n",
       "    </tr>\n",
       "  </tbody>\n",
       "</table>\n",
       "</div>"
      ],
      "text/plain": [
       "                time\n",
       "count  306534.000000\n",
       "mean      366.382940\n",
       "std       200.326314\n",
       "min         0.000000\n",
       "25%       186.000000\n",
       "50%       408.000000\n",
       "75%       528.000000\n",
       "max       714.000000"
      ]
     },
     "execution_count": 25,
     "metadata": {},
     "output_type": "execute_result"
    }
   ],
   "source": [
    "transcript.describe()"
   ]
  },
  {
   "cell_type": "markdown",
   "metadata": {},
   "source": [
    "Time is distributed not normally according to below histogram."
   ]
  },
  {
   "cell_type": "code",
   "execution_count": 26,
   "metadata": {
    "collapsed": false,
    "scrolled": true
   },
   "outputs": [
    {
     "data": {
      "text/plain": [
       "array([[<matplotlib.axes._subplots.AxesSubplot object at 0x11b9ad0f0>]],\n",
       "      dtype=object)"
      ]
     },
     "execution_count": 26,
     "metadata": {},
     "output_type": "execute_result"
    },
    {
     "data": {
      "image/png": "[encoded data removed]",
      "text/plain": [
       "<Figure size 432x288 with 1 Axes>"
      ]
     },
     "metadata": {
      "needs_background": "light"
     },
     "output_type": "display_data"
    }
   ],
   "source": [
    "transcript.hist()"
   ]
  },
  {
   "cell_type": "markdown",
   "metadata": {},
   "source": [
    "There are users who received the offer but never viewed it or completed it. And All of the users have some kind of transaction for them"
   ]
  },
  {
   "cell_type": "code",
   "execution_count": 27,
   "metadata": {
    "collapsed": false,
    "scrolled": true
   },
   "outputs": [
    {
     "data": {
      "text/plain": [
       "<matplotlib.axes._subplots.AxesSubplot at 0x11b9e37f0>"
      ]
     },
     "execution_count": 27,
     "metadata": {},
     "output_type": "execute_result"
    },
    {
     "data": {
      "image/png": "[encoded data removed]",
      "text/plain": [
       "<Figure size 432x288 with 1 Axes>"
      ]
     },
     "metadata": {
      "needs_background": "light"
     },
     "output_type": "display_data"
    }
   ],
   "source": [
    "sns.countplot(transcript['event'])"
   ]
  },
  {
   "cell_type": "markdown",
   "metadata": {},
   "source": [
    "Majority of the users received 5 and 6 offers"
   ]
  },
  {
   "cell_type": "code",
   "execution_count": 28,
   "metadata": {
    "collapsed": false,
    "scrolled": true
   },
   "outputs": [
    {
     "data": {
      "text/plain": [
       "<matplotlib.axes._subplots.AxesSubplot at 0x11b9f6b38>"
      ]
     },
     "execution_count": 28,
     "metadata": {},
     "output_type": "execute_result"
    },
    {
     "data": {
      "image/png": "[encoded data removed]",
      "text/plain": [
       "<Figure size 432x288 with 1 Axes>"
      ]
     },
     "metadata": {
      "needs_background": "light"
     },
     "output_type": "display_data"
    }
   ],
   "source": [
    "transcript[transcript['event']==\"offer received\"]['person'].value_counts().hist()"
   ]
  },
  {
   "cell_type": "markdown",
   "metadata": {},
   "source": [
    "Distribution of the users by the count of any event (count time). Majority of the users had <10 transactions while there are few who made 35 transactions"
   ]
  },
  {
   "cell_type": "code",
   "execution_count": 29,
   "metadata": {
    "collapsed": false,
    "scrolled": true
   },
   "outputs": [
    {
     "data": {
      "text/plain": [
       "<matplotlib.axes._subplots.AxesSubplot at 0x11ba4b240>"
      ]
     },
     "execution_count": 29,
     "metadata": {},
     "output_type": "execute_result"
    },
    {
     "data": {
      "image/png": "[encoded data removed]",
      "text/plain": [
       "<Figure size 432x288 with 1 Axes>"
      ]
     },
     "metadata": {
      "needs_background": "light"
     },
     "output_type": "display_data"
    }
   ],
   "source": [
    "transcript.groupby(['person', 'event']).count()['time'].hist(log=True)"
   ]
  },
  {
   "cell_type": "markdown",
   "metadata": {},
   "source": [
    "Review of users' sample behavior: By looking at minimum time for each event we see that they usually receive the offer then view it, then complete it and transaction can be before or after the offer "
   ]
  },
  {
   "cell_type": "code",
   "execution_count": 30,
   "metadata": {
    "collapsed": false,
    "scrolled": true
   },
   "outputs": [
    {
     "data": {
      "text/plain": [
       "person                            event          \n",
       "0009655768c64bdeb2e877511632db8f  offer completed    414\n",
       "                                  offer received     168\n",
       "                                  offer viewed       192\n",
       "                                  transaction        228\n",
       "00116118485d4dfda04fdbaba9a87b5c  offer received     168\n",
       "                                  offer viewed       216\n",
       "                                  transaction        294\n",
       "0011e0d4e6b944f998e987f904e8c1e5  offer completed    252\n",
       "                                  offer received       0\n",
       "                                  offer viewed         6\n",
       "                                  transaction        132\n",
       "0020c2b971eb4e9188eac86d93036a77  offer completed     54\n",
       "                                  offer received       0\n",
       "                                  offer viewed        12\n",
       "                                  transaction         54\n",
       "0020ccbbb6d84e358d3414a3ff76cffd  offer completed    222\n",
       "                                  offer received     168\n",
       "                                  offer viewed       168\n",
       "                                  transaction         42\n",
       "003d66b6608740288d6cc97a6903f4f0  offer completed    384\n",
       "                                  offer received       0\n",
       "                                  offer viewed        36\n",
       "                                  transaction         66\n",
       "00426fe3ffde4c6b9cb9ad6d077a13ea  offer completed    258\n",
       "                                  offer received       0\n",
       "                                  offer viewed        36\n",
       "                                  transaction         36\n",
       "004b041fbfe44859945daa2c7f79ee64  offer completed    534\n",
       "                                  offer received     168\n",
       "                                  offer viewed       510\n",
       "                                                    ... \n",
       "ffed75d3abc64b488982f50ed12878b5  offer viewed        18\n",
       "ffede3b700ac41d6a266fa1ba74b4f16  offer received       0\n",
       "                                  offer viewed        36\n",
       "                                  transaction         48\n",
       "fff0f0aac6c547b9b263080f09a5586a  offer received     168\n",
       "                                  offer viewed       288\n",
       "                                  transaction         48\n",
       "fff29fb549084123bd046dbc5ceb4faa  offer completed    168\n",
       "                                  offer received       0\n",
       "                                  offer viewed       168\n",
       "                                  transaction        168\n",
       "fff3ba4757bd42088c044ca26d73817a  offer completed      6\n",
       "                                  offer received       0\n",
       "                                  offer viewed         6\n",
       "                                  transaction          6\n",
       "fff7576017104bcc8677a8d63322b5e1  offer completed    192\n",
       "                                  offer received       0\n",
       "                                  offer viewed        24\n",
       "                                  transaction         36\n",
       "fff8957ea8b240a6b5e634b6ee8eafcf  offer received     408\n",
       "                                  offer viewed       432\n",
       "                                  transaction         18\n",
       "fffad4f4828548d1b5583907f2e9906b  offer completed     36\n",
       "                                  offer received       0\n",
       "                                  offer viewed         6\n",
       "                                  transaction         36\n",
       "ffff82501cea40309d5fdd7edcca4a07  offer completed     60\n",
       "                                  offer received       0\n",
       "                                  offer viewed         6\n",
       "                                  transaction         60\n",
       "Name: time, Length: 63180, dtype: int64"
      ]
     },
     "execution_count": 30,
     "metadata": {},
     "output_type": "execute_result"
    }
   ],
   "source": [
    "transcript.groupby(['person', 'event']).min()['time']"
   ]
  },
  {
   "cell_type": "markdown",
   "metadata": {},
   "source": [
    "From the above we can see that when the users received the offer and there are six times in the testing period"
   ]
  },
  {
   "cell_type": "code",
   "execution_count": 31,
   "metadata": {
    "collapsed": false,
    "scrolled": true
   },
   "outputs": [
    {
     "data": {
      "text/plain": [
       "408    12778\n",
       "576    12765\n",
       "336    12711\n",
       "504    12704\n",
       "168    12669\n",
       "0      12650\n",
       "Name: time, dtype: int64"
      ]
     },
     "execution_count": 31,
     "metadata": {},
     "output_type": "execute_result"
    }
   ],
   "source": [
    "transcript['time'][transcript['event']=='offer received'].value_counts()"
   ]
  },
  {
   "cell_type": "markdown",
   "metadata": {},
   "source": [
    "There are users who made all four types of events"
   ]
  },
  {
   "cell_type": "code",
   "execution_count": 32,
   "metadata": {
    "collapsed": false,
    "scrolled": true
   },
   "outputs": [
    {
     "data": {
      "text/plain": [
       "person                            event          \n",
       "0009655768c64bdeb2e877511632db8f  offer completed    3\n",
       "                                  offer received     5\n",
       "                                  offer viewed       4\n",
       "                                  transaction        8\n",
       "00116118485d4dfda04fdbaba9a87b5c  offer received     2\n",
       "Name: time, dtype: int64"
      ]
     },
     "execution_count": 32,
     "metadata": {},
     "output_type": "execute_result"
    }
   ],
   "source": [
    "transcript.groupby(['person', 'event']).count()['time'].sort_index(level=0).head()"
   ]
  },
  {
   "cell_type": "markdown",
   "metadata": {},
   "source": [
    "There are users who made maximum transactions: 36 "
   ]
  },
  {
   "cell_type": "code",
   "execution_count": 33,
   "metadata": {
    "collapsed": false,
    "scrolled": true
   },
   "outputs": [
    {
     "data": {
      "text/plain": [
       "79d9d4f86aca4bed9290350fb43817c2    36\n",
       "8dbfa485249f409aa223a2130f40634a    36\n",
       "94de646f7b6041228ca7dec82adb97d2    35\n",
       "5e60c6aa3b834e44b822ea43a3efea26    32\n",
       "b1f4ece7d49342628a9ed77aee2cde58    32\n",
       "Name: person, dtype: int64"
      ]
     },
     "execution_count": 33,
     "metadata": {},
     "output_type": "execute_result"
    }
   ],
   "source": [
    "transcript[transcript['event']==\"transaction\"]['person'].value_counts().head()"
   ]
  },
  {
   "cell_type": "markdown",
   "metadata": {},
   "source": [
    "There are 422 customers who don't have any 'transaction' event but have other events: offer received and offer viewed. As such the absolute majority of the users have 'transaction' event, where they actually purchase something"
   ]
  },
  {
   "cell_type": "code",
   "execution_count": 34,
   "metadata": {
    "collapsed": false
   },
   "outputs": [
    {
     "data": {
      "text/plain": [
       "422"
      ]
     },
     "execution_count": 34,
     "metadata": {},
     "output_type": "execute_result"
    }
   ],
   "source": [
    "transcript['person'][~transcript['person'].isin(transcript[transcript['event']==\"transaction\"]['person'])].nunique()"
   ]
  },
  {
   "cell_type": "code",
   "execution_count": 35,
   "metadata": {
    "collapsed": true
   },
   "outputs": [],
   "source": [
    "cust_no_transactions=transcript['person'][~transcript['person'].isin(transcript[transcript['event']==\"transaction\"]\\\n",
    "                                                                     ['person'])].unique()"
   ]
  },
  {
   "cell_type": "code",
   "execution_count": 36,
   "metadata": {
    "collapsed": false,
    "scrolled": true
   },
   "outputs": [
    {
     "data": {
      "text/plain": [
       "<matplotlib.axes._subplots.AxesSubplot at 0x11bafcdd8>"
      ]
     },
     "execution_count": 36,
     "metadata": {},
     "output_type": "execute_result"
    },
    {
     "data": {
      "image/png": "[encoded data removed]",
      "text/plain": [
       "<Figure size 432x288 with 1 Axes>"
      ]
     },
     "metadata": {
      "needs_background": "light"
     },
     "output_type": "display_data"
    }
   ],
   "source": [
    "sns.countplot(transcript['event'][transcript['person'].isin(cust_no_transactions)])"
   ]
  },
  {
   "cell_type": "code",
   "execution_count": 37,
   "metadata": {
    "collapsed": false,
    "scrolled": true
   },
   "outputs": [
    {
     "data": {
      "text/plain": [
       "{'offer id': '2298d6c36e964ae4a3e7e9706d1fb8c2'}                  14983\n",
       "{'offer id': 'fafdcd668e3743c1bb461111dcafc2a4'}                  14924\n",
       "{'offer id': '4d5c57ea9a6940dd891ad53e9dbe8da0'}                  14891\n",
       "{'offer id': 'f19421c1d4aa40978ebb69ca19b0e20d'}                  14835\n",
       "{'offer id': 'ae264e3637204a6fb9bb56bc8210ddfd'}                  14374\n",
       "{'offer id': '5a8bc65990b245e5a138643cd4eb9837'}                  14305\n",
       "{'offer id': '9b98b8c7a33c4b65b9aebfe6a799e6d9'}                  11848\n",
       "{'offer id': '3f207df678b143eea3cee63160fa8bed'}                  11761\n",
       "{'offer id': '2906b810c7d4411798c6938adc9daaa5'}                  11750\n",
       "{'offer id': '0b1e1539f2cc45b7b9fa7c272da2e1d7'}                  10331\n",
       "{'offer_id': 'fafdcd668e3743c1bb461111dcafc2a4', 'reward': 2}      5317\n",
       "{'offer_id': '2298d6c36e964ae4a3e7e9706d1fb8c2', 'reward': 3}      5156\n",
       "{'offer_id': '9b98b8c7a33c4b65b9aebfe6a799e6d9', 'reward': 5}      4354\n",
       "{'offer_id': 'f19421c1d4aa40978ebb69ca19b0e20d', 'reward': 5}      4296\n",
       "{'offer_id': '2906b810c7d4411798c6938adc9daaa5', 'reward': 2}      4017\n",
       "{'offer_id': 'ae264e3637204a6fb9bb56bc8210ddfd', 'reward': 10}     3688\n",
       "{'offer_id': '0b1e1539f2cc45b7b9fa7c272da2e1d7', 'reward': 5}      3420\n",
       "{'offer_id': '4d5c57ea9a6940dd891ad53e9dbe8da0', 'reward': 10}     3331\n",
       "{'amount': 0.05}                                                    431\n",
       "{'amount': 0.66}                                                    166\n",
       "{'amount': 1.18}                                                    165\n",
       "{'amount': 1.01}                                                    163\n",
       "{'amount': 1.23}                                                    161\n",
       "{'amount': 0.9}                                                     161\n",
       "{'amount': 0.53}                                                    159\n",
       "{'amount': 0.5}                                                     159\n",
       "{'amount': 1.19}                                                    159\n",
       "{'amount': 0.79}                                                    157\n",
       "{'amount': 1.5}                                                     156\n",
       "{'amount': 0.92}                                                    156\n",
       "                                                                  ...  \n",
       "{'amount': 49.73}                                                     1\n",
       "{'amount': 749.29}                                                    1\n",
       "{'amount': 83.03}                                                     1\n",
       "{'amount': 51.06}                                                     1\n",
       "{'amount': 53.4}                                                      1\n",
       "{'amount': 47.2}                                                      1\n",
       "{'amount': 1015.73}                                                   1\n",
       "{'amount': 40.83}                                                     1\n",
       "{'amount': 54.44}                                                     1\n",
       "{'amount': 39.82}                                                     1\n",
       "{'amount': 456.79}                                                    1\n",
       "{'amount': 49.82}                                                     1\n",
       "{'amount': 41.61}                                                     1\n",
       "{'amount': 619.63}                                                    1\n",
       "{'amount': 50.37}                                                     1\n",
       "{'amount': 45.76}                                                     1\n",
       "{'amount': 36.99}                                                     1\n",
       "{'amount': 773.21}                                                    1\n",
       "{'amount': 577.21}                                                    1\n",
       "{'amount': 37.3}                                                      1\n",
       "{'amount': 792.54}                                                    1\n",
       "{'amount': 49.38}                                                     1\n",
       "{'amount': 769.04}                                                    1\n",
       "{'amount': 384.03}                                                    1\n",
       "{'amount': 493.4}                                                     1\n",
       "{'amount': 439.14}                                                    1\n",
       "{'amount': 42.75}                                                     1\n",
       "{'amount': 650.75}                                                    1\n",
       "{'amount': 943.4}                                                     1\n",
       "{'amount': 44.21}                                                     1\n",
       "Name: value, Length: 5121, dtype: int64"
      ]
     },
     "execution_count": 37,
     "metadata": {},
     "output_type": "execute_result"
    }
   ],
   "source": [
    "transcript['value'].value_counts()"
   ]
  },
  {
   "cell_type": "code",
   "execution_count": 38,
   "metadata": {
    "collapsed": false
   },
   "outputs": [
    {
     "data": {
      "text/plain": [
       "7    informational\n",
       "Name: offer_type, dtype: object"
      ]
     },
     "execution_count": 38,
     "metadata": {},
     "output_type": "execute_result"
    }
   ],
   "source": [
    "portfolio['offer_type'][portfolio['id']=='5a8bc65990b245e5a138643cd4eb9837']"
   ]
  },
  {
   "cell_type": "markdown",
   "metadata": {},
   "source": [
    "#### We can see that in the dictionary, there is a different spelling of 'offer_id'! It is also spelled as 'offer id'!"
   ]
  },
  {
   "cell_type": "code",
   "execution_count": 39,
   "metadata": {
    "collapsed": false,
    "scrolled": true
   },
   "outputs": [
    {
     "data": {
      "text/html": [
       "<div>\n",
       "<style scoped>\n",
       "    .dataframe tbody tr th:only-of-type {\n",
       "        vertical-align: middle;\n",
       "    }\n",
       "\n",
       "    .dataframe tbody tr th {\n",
       "        vertical-align: top;\n",
       "    }\n",
       "\n",
       "    .dataframe thead th {\n",
       "        text-align: right;\n",
       "    }\n",
       "</style>\n",
       "<table border=\"1\" class=\"dataframe\">\n",
       "  <thead>\n",
       "    <tr style=\"text-align: right;\">\n",
       "      <th></th>\n",
       "      <th>event</th>\n",
       "      <th>person</th>\n",
       "      <th>time</th>\n",
       "      <th>value</th>\n",
       "    </tr>\n",
       "  </thead>\n",
       "  <tbody>\n",
       "    <tr>\n",
       "      <th>6411</th>\n",
       "      <td>offer received</td>\n",
       "      <td>948ec827ac334c8782a1da99a2d6a39b</td>\n",
       "      <td>0</td>\n",
       "      <td>{'offer id': 'ae264e3637204a6fb9bb56bc8210ddfd'}</td>\n",
       "    </tr>\n",
       "    <tr>\n",
       "      <th>21307</th>\n",
       "      <td>offer viewed</td>\n",
       "      <td>948ec827ac334c8782a1da99a2d6a39b</td>\n",
       "      <td>18</td>\n",
       "      <td>{'offer id': 'ae264e3637204a6fb9bb56bc8210ddfd'}</td>\n",
       "    </tr>\n",
       "    <tr>\n",
       "      <th>21308</th>\n",
       "      <td>transaction</td>\n",
       "      <td>948ec827ac334c8782a1da99a2d6a39b</td>\n",
       "      <td>18</td>\n",
       "      <td>{'amount': 8.18}</td>\n",
       "    </tr>\n",
       "    <tr>\n",
       "      <th>28735</th>\n",
       "      <td>transaction</td>\n",
       "      <td>948ec827ac334c8782a1da99a2d6a39b</td>\n",
       "      <td>42</td>\n",
       "      <td>{'amount': 13.14}</td>\n",
       "    </tr>\n",
       "    <tr>\n",
       "      <th>28736</th>\n",
       "      <td>offer completed</td>\n",
       "      <td>948ec827ac334c8782a1da99a2d6a39b</td>\n",
       "      <td>42</td>\n",
       "      <td>{'offer_id': 'ae264e3637204a6fb9bb56bc8210ddfd', 'reward': 10}</td>\n",
       "    </tr>\n",
       "    <tr>\n",
       "      <th>31878</th>\n",
       "      <td>transaction</td>\n",
       "      <td>948ec827ac334c8782a1da99a2d6a39b</td>\n",
       "      <td>54</td>\n",
       "      <td>{'amount': 7.58}</td>\n",
       "    </tr>\n",
       "    <tr>\n",
       "      <th>59615</th>\n",
       "      <td>offer received</td>\n",
       "      <td>948ec827ac334c8782a1da99a2d6a39b</td>\n",
       "      <td>168</td>\n",
       "      <td>{'offer id': 'ae264e3637204a6fb9bb56bc8210ddfd'}</td>\n",
       "    </tr>\n",
       "    <tr>\n",
       "      <th>67664</th>\n",
       "      <td>offer viewed</td>\n",
       "      <td>948ec827ac334c8782a1da99a2d6a39b</td>\n",
       "      <td>168</td>\n",
       "      <td>{'offer id': 'ae264e3637204a6fb9bb56bc8210ddfd'}</td>\n",
       "    </tr>\n",
       "    <tr>\n",
       "      <th>73552</th>\n",
       "      <td>transaction</td>\n",
       "      <td>948ec827ac334c8782a1da99a2d6a39b</td>\n",
       "      <td>180</td>\n",
       "      <td>{'amount': 9.65}</td>\n",
       "    </tr>\n",
       "    <tr>\n",
       "      <th>88036</th>\n",
       "      <td>transaction</td>\n",
       "      <td>948ec827ac334c8782a1da99a2d6a39b</td>\n",
       "      <td>222</td>\n",
       "      <td>{'amount': 10.25}</td>\n",
       "    </tr>\n",
       "    <tr>\n",
       "      <th>88037</th>\n",
       "      <td>offer completed</td>\n",
       "      <td>948ec827ac334c8782a1da99a2d6a39b</td>\n",
       "      <td>222</td>\n",
       "      <td>{'offer_id': 'ae264e3637204a6fb9bb56bc8210ddfd', 'reward': 10}</td>\n",
       "    </tr>\n",
       "    <tr>\n",
       "      <th>95763</th>\n",
       "      <td>transaction</td>\n",
       "      <td>948ec827ac334c8782a1da99a2d6a39b</td>\n",
       "      <td>252</td>\n",
       "      <td>{'amount': 12.14}</td>\n",
       "    </tr>\n",
       "    <tr>\n",
       "      <th>97056</th>\n",
       "      <td>transaction</td>\n",
       "      <td>948ec827ac334c8782a1da99a2d6a39b</td>\n",
       "      <td>258</td>\n",
       "      <td>{'amount': 26.48}</td>\n",
       "    </tr>\n",
       "    <tr>\n",
       "      <th>100865</th>\n",
       "      <td>transaction</td>\n",
       "      <td>948ec827ac334c8782a1da99a2d6a39b</td>\n",
       "      <td>276</td>\n",
       "      <td>{'amount': 9.05}</td>\n",
       "    </tr>\n",
       "    <tr>\n",
       "      <th>104336</th>\n",
       "      <td>transaction</td>\n",
       "      <td>948ec827ac334c8782a1da99a2d6a39b</td>\n",
       "      <td>294</td>\n",
       "      <td>{'amount': 9.38}</td>\n",
       "    </tr>\n",
       "    <tr>\n",
       "      <th>117278</th>\n",
       "      <td>offer received</td>\n",
       "      <td>948ec827ac334c8782a1da99a2d6a39b</td>\n",
       "      <td>336</td>\n",
       "      <td>{'offer id': 'ae264e3637204a6fb9bb56bc8210ddfd'}</td>\n",
       "    </tr>\n",
       "    <tr>\n",
       "      <th>125419</th>\n",
       "      <td>offer viewed</td>\n",
       "      <td>948ec827ac334c8782a1da99a2d6a39b</td>\n",
       "      <td>336</td>\n",
       "      <td>{'offer id': 'ae264e3637204a6fb9bb56bc8210ddfd'}</td>\n",
       "    </tr>\n",
       "    <tr>\n",
       "      <th>146317</th>\n",
       "      <td>transaction</td>\n",
       "      <td>948ec827ac334c8782a1da99a2d6a39b</td>\n",
       "      <td>390</td>\n",
       "      <td>{'amount': 18.07}</td>\n",
       "    </tr>\n",
       "    <tr>\n",
       "      <th>146318</th>\n",
       "      <td>offer completed</td>\n",
       "      <td>948ec827ac334c8782a1da99a2d6a39b</td>\n",
       "      <td>390</td>\n",
       "      <td>{'offer_id': 'ae264e3637204a6fb9bb56bc8210ddfd', 'reward': 10}</td>\n",
       "    </tr>\n",
       "    <tr>\n",
       "      <th>157080</th>\n",
       "      <td>offer received</td>\n",
       "      <td>948ec827ac334c8782a1da99a2d6a39b</td>\n",
       "      <td>408</td>\n",
       "      <td>{'offer id': 'ae264e3637204a6fb9bb56bc8210ddfd'}</td>\n",
       "    </tr>\n",
       "    <tr>\n",
       "      <th>169449</th>\n",
       "      <td>offer viewed</td>\n",
       "      <td>948ec827ac334c8782a1da99a2d6a39b</td>\n",
       "      <td>414</td>\n",
       "      <td>{'offer id': 'ae264e3637204a6fb9bb56bc8210ddfd'}</td>\n",
       "    </tr>\n",
       "    <tr>\n",
       "      <th>172834</th>\n",
       "      <td>transaction</td>\n",
       "      <td>948ec827ac334c8782a1da99a2d6a39b</td>\n",
       "      <td>420</td>\n",
       "      <td>{'amount': 10.8}</td>\n",
       "    </tr>\n",
       "    <tr>\n",
       "      <th>172835</th>\n",
       "      <td>offer completed</td>\n",
       "      <td>948ec827ac334c8782a1da99a2d6a39b</td>\n",
       "      <td>420</td>\n",
       "      <td>{'offer_id': 'ae264e3637204a6fb9bb56bc8210ddfd', 'reward': 10}</td>\n",
       "    </tr>\n",
       "    <tr>\n",
       "      <th>186028</th>\n",
       "      <td>transaction</td>\n",
       "      <td>948ec827ac334c8782a1da99a2d6a39b</td>\n",
       "      <td>450</td>\n",
       "      <td>{'amount': 7.03}</td>\n",
       "    </tr>\n",
       "    <tr>\n",
       "      <th>229166</th>\n",
       "      <td>transaction</td>\n",
       "      <td>948ec827ac334c8782a1da99a2d6a39b</td>\n",
       "      <td>528</td>\n",
       "      <td>{'amount': 3.61}</td>\n",
       "    </tr>\n",
       "    <tr>\n",
       "      <th>231698</th>\n",
       "      <td>transaction</td>\n",
       "      <td>948ec827ac334c8782a1da99a2d6a39b</td>\n",
       "      <td>534</td>\n",
       "      <td>{'amount': 18.12}</td>\n",
       "    </tr>\n",
       "    <tr>\n",
       "      <th>234044</th>\n",
       "      <td>transaction</td>\n",
       "      <td>948ec827ac334c8782a1da99a2d6a39b</td>\n",
       "      <td>540</td>\n",
       "      <td>{'amount': 10.65}</td>\n",
       "    </tr>\n",
       "    <tr>\n",
       "      <th>300003</th>\n",
       "      <td>transaction</td>\n",
       "      <td>948ec827ac334c8782a1da99a2d6a39b</td>\n",
       "      <td>684</td>\n",
       "      <td>{'amount': 8.26}</td>\n",
       "    </tr>\n",
       "  </tbody>\n",
       "</table>\n",
       "</div>"
      ],
      "text/plain": [
       "                  event                            person  time                                                           value\n",
       "6411     offer received  948ec827ac334c8782a1da99a2d6a39b     0                {'offer id': 'ae264e3637204a6fb9bb56bc8210ddfd'}\n",
       "21307      offer viewed  948ec827ac334c8782a1da99a2d6a39b    18                {'offer id': 'ae264e3637204a6fb9bb56bc8210ddfd'}\n",
       "21308       transaction  948ec827ac334c8782a1da99a2d6a39b    18                                                {'amount': 8.18}\n",
       "28735       transaction  948ec827ac334c8782a1da99a2d6a39b    42                                               {'amount': 13.14}\n",
       "28736   offer completed  948ec827ac334c8782a1da99a2d6a39b    42  {'offer_id': 'ae264e3637204a6fb9bb56bc8210ddfd', 'reward': 10}\n",
       "31878       transaction  948ec827ac334c8782a1da99a2d6a39b    54                                                {'amount': 7.58}\n",
       "59615    offer received  948ec827ac334c8782a1da99a2d6a39b   168                {'offer id': 'ae264e3637204a6fb9bb56bc8210ddfd'}\n",
       "67664      offer viewed  948ec827ac334c8782a1da99a2d6a39b   168                {'offer id': 'ae264e3637204a6fb9bb56bc8210ddfd'}\n",
       "73552       transaction  948ec827ac334c8782a1da99a2d6a39b   180                                                {'amount': 9.65}\n",
       "88036       transaction  948ec827ac334c8782a1da99a2d6a39b   222                                               {'amount': 10.25}\n",
       "88037   offer completed  948ec827ac334c8782a1da99a2d6a39b   222  {'offer_id': 'ae264e3637204a6fb9bb56bc8210ddfd', 'reward': 10}\n",
       "95763       transaction  948ec827ac334c8782a1da99a2d6a39b   252                                               {'amount': 12.14}\n",
       "97056       transaction  948ec827ac334c8782a1da99a2d6a39b   258                                               {'amount': 26.48}\n",
       "100865      transaction  948ec827ac334c8782a1da99a2d6a39b   276                                                {'amount': 9.05}\n",
       "104336      transaction  948ec827ac334c8782a1da99a2d6a39b   294                                                {'amount': 9.38}\n",
       "117278   offer received  948ec827ac334c8782a1da99a2d6a39b   336                {'offer id': 'ae264e3637204a6fb9bb56bc8210ddfd'}\n",
       "125419     offer viewed  948ec827ac334c8782a1da99a2d6a39b   336                {'offer id': 'ae264e3637204a6fb9bb56bc8210ddfd'}\n",
       "146317      transaction  948ec827ac334c8782a1da99a2d6a39b   390                                               {'amount': 18.07}\n",
       "146318  offer completed  948ec827ac334c8782a1da99a2d6a39b   390  {'offer_id': 'ae264e3637204a6fb9bb56bc8210ddfd', 'reward': 10}\n",
       "157080   offer received  948ec827ac334c8782a1da99a2d6a39b   408                {'offer id': 'ae264e3637204a6fb9bb56bc8210ddfd'}\n",
       "169449     offer viewed  948ec827ac334c8782a1da99a2d6a39b   414                {'offer id': 'ae264e3637204a6fb9bb56bc8210ddfd'}\n",
       "172834      transaction  948ec827ac334c8782a1da99a2d6a39b   420                                                {'amount': 10.8}\n",
       "172835  offer completed  948ec827ac334c8782a1da99a2d6a39b   420  {'offer_id': 'ae264e3637204a6fb9bb56bc8210ddfd', 'reward': 10}\n",
       "186028      transaction  948ec827ac334c8782a1da99a2d6a39b   450                                                {'amount': 7.03}\n",
       "229166      transaction  948ec827ac334c8782a1da99a2d6a39b   528                                                {'amount': 3.61}\n",
       "231698      transaction  948ec827ac334c8782a1da99a2d6a39b   534                                               {'amount': 18.12}\n",
       "234044      transaction  948ec827ac334c8782a1da99a2d6a39b   540                                               {'amount': 10.65}\n",
       "300003      transaction  948ec827ac334c8782a1da99a2d6a39b   684                                                {'amount': 8.26}"
      ]
     },
     "execution_count": 39,
     "metadata": {},
     "output_type": "execute_result"
    }
   ],
   "source": [
    "#checking one of the users who received different offers and made transactions\n",
    "transcript[transcript['person']=='948ec827ac334c8782a1da99a2d6a39b']"
   ]
  },
  {
   "cell_type": "code",
   "execution_count": 40,
   "metadata": {
    "collapsed": true
   },
   "outputs": [],
   "source": [
    "#lets correct the above formula, as the offer id is spelled differently\n",
    "transcript['offer_id']=transcript['value'].map(lambda x: x.get('offer_id', x.get('offer id', '')))"
   ]
  },
  {
   "cell_type": "code",
   "execution_count": 41,
   "metadata": {
    "collapsed": false,
    "scrolled": false
   },
   "outputs": [
    {
     "data": {
      "text/html": [
       "<div>\n",
       "<style scoped>\n",
       "    .dataframe tbody tr th:only-of-type {\n",
       "        vertical-align: middle;\n",
       "    }\n",
       "\n",
       "    .dataframe tbody tr th {\n",
       "        vertical-align: top;\n",
       "    }\n",
       "\n",
       "    .dataframe thead th {\n",
       "        text-align: right;\n",
       "    }\n",
       "</style>\n",
       "<table border=\"1\" class=\"dataframe\">\n",
       "  <thead>\n",
       "    <tr style=\"text-align: right;\">\n",
       "      <th></th>\n",
       "      <th>event</th>\n",
       "      <th>person</th>\n",
       "      <th>time</th>\n",
       "      <th>value</th>\n",
       "      <th>offer_id</th>\n",
       "    </tr>\n",
       "  </thead>\n",
       "  <tbody>\n",
       "    <tr>\n",
       "      <th>6411</th>\n",
       "      <td>offer received</td>\n",
       "      <td>948ec827ac334c8782a1da99a2d6a39b</td>\n",
       "      <td>0</td>\n",
       "      <td>{'offer id': 'ae264e3637204a6fb9bb56bc8210ddfd'}</td>\n",
       "      <td>ae264e3637204a6fb9bb56bc8210ddfd</td>\n",
       "    </tr>\n",
       "    <tr>\n",
       "      <th>21307</th>\n",
       "      <td>offer viewed</td>\n",
       "      <td>948ec827ac334c8782a1da99a2d6a39b</td>\n",
       "      <td>18</td>\n",
       "      <td>{'offer id': 'ae264e3637204a6fb9bb56bc8210ddfd'}</td>\n",
       "      <td>ae264e3637204a6fb9bb56bc8210ddfd</td>\n",
       "    </tr>\n",
       "    <tr>\n",
       "      <th>21308</th>\n",
       "      <td>transaction</td>\n",
       "      <td>948ec827ac334c8782a1da99a2d6a39b</td>\n",
       "      <td>18</td>\n",
       "      <td>{'amount': 8.18}</td>\n",
       "      <td></td>\n",
       "    </tr>\n",
       "    <tr>\n",
       "      <th>28735</th>\n",
       "      <td>transaction</td>\n",
       "      <td>948ec827ac334c8782a1da99a2d6a39b</td>\n",
       "      <td>42</td>\n",
       "      <td>{'amount': 13.14}</td>\n",
       "      <td></td>\n",
       "    </tr>\n",
       "    <tr>\n",
       "      <th>28736</th>\n",
       "      <td>offer completed</td>\n",
       "      <td>948ec827ac334c8782a1da99a2d6a39b</td>\n",
       "      <td>42</td>\n",
       "      <td>{'offer_id': 'ae264e3637204a6fb9bb56bc8210ddfd', 'reward': 10}</td>\n",
       "      <td>ae264e3637204a6fb9bb56bc8210ddfd</td>\n",
       "    </tr>\n",
       "  </tbody>\n",
       "</table>\n",
       "</div>"
      ],
      "text/plain": [
       "                 event                            person  time                                                           value                          offer_id\n",
       "6411    offer received  948ec827ac334c8782a1da99a2d6a39b     0                {'offer id': 'ae264e3637204a6fb9bb56bc8210ddfd'}  ae264e3637204a6fb9bb56bc8210ddfd\n",
       "21307     offer viewed  948ec827ac334c8782a1da99a2d6a39b    18                {'offer id': 'ae264e3637204a6fb9bb56bc8210ddfd'}  ae264e3637204a6fb9bb56bc8210ddfd\n",
       "21308      transaction  948ec827ac334c8782a1da99a2d6a39b    18                                                {'amount': 8.18}                                  \n",
       "28735      transaction  948ec827ac334c8782a1da99a2d6a39b    42                                               {'amount': 13.14}                                  \n",
       "28736  offer completed  948ec827ac334c8782a1da99a2d6a39b    42  {'offer_id': 'ae264e3637204a6fb9bb56bc8210ddfd', 'reward': 10}  ae264e3637204a6fb9bb56bc8210ddfd"
      ]
     },
     "execution_count": 41,
     "metadata": {},
     "output_type": "execute_result"
    }
   ],
   "source": [
    "transcript[transcript['person']=='948ec827ac334c8782a1da99a2d6a39b'].head()"
   ]
  },
  {
   "cell_type": "code",
   "execution_count": 42,
   "metadata": {
    "collapsed": true
   },
   "outputs": [],
   "source": [
    "transcript_p =transcript.merge(portfolio, how =\"left\", left_on='offer_id', right_on='id')"
   ]
  },
  {
   "cell_type": "code",
   "execution_count": 43,
   "metadata": {
    "collapsed": false
   },
   "outputs": [
    {
     "data": {
      "text/plain": [
       "offer_id                          person                          \n",
       "fafdcd668e3743c1bb461111dcafc2a4  2ea50de315514ccaa5079db4c1ecbc0b    13\n",
       "ae264e3637204a6fb9bb56bc8210ddfd  948ec827ac334c8782a1da99a2d6a39b    12\n",
       "                                  d3209835a40a423fbf2c967218d00bcd    12\n",
       "2906b810c7d4411798c6938adc9daaa5  61f661b7070c4063880a85b22f1fe0e4    12\n",
       "ae264e3637204a6fb9bb56bc8210ddfd  db23badcb0e64c0eb193721a727a446f    12\n",
       "4d5c57ea9a6940dd891ad53e9dbe8da0  c93f9619abd642a684bd79953cef992c    12\n",
       "f19421c1d4aa40978ebb69ca19b0e20d  6d2db3aad94648259e539920fc2cf2a6    12\n",
       "2906b810c7d4411798c6938adc9daaa5  ac3b8c9879304a9db841fa510d931ea7    12\n",
       "2298d6c36e964ae4a3e7e9706d1fb8c2  2dab8c385a2440b78b432ecb72d68787    12\n",
       "                                  ea54840ba8a54a098de60d39fc533d51    12\n",
       "9b98b8c7a33c4b65b9aebfe6a799e6d9  e7757d0a16384143ad9b2f9e429c23a9    12\n",
       "4d5c57ea9a6940dd891ad53e9dbe8da0  ad84e9ec3c33444c859e0295773bc05f    12\n",
       "9b98b8c7a33c4b65b9aebfe6a799e6d9  4b72995c52ab4cd5ab407924b09e1ab4    12\n",
       "2298d6c36e964ae4a3e7e9706d1fb8c2  281d463f31e74ecaa4451d169868c5d7    12\n",
       "9b98b8c7a33c4b65b9aebfe6a799e6d9  073fce5708884b30a28b65b3cb15a919    12\n",
       "2298d6c36e964ae4a3e7e9706d1fb8c2  bd2cdd691aca4bb0a0e039979ee5de5c    12\n",
       "                                  1c8cf4af93464dcaa971cfcffc2cc1e5    12\n",
       "                                  72412f41d944472dbba2183ae9af8a8e    11\n",
       "                                  e008262ad24e46af98a928342e303c3e    11\n",
       "9b98b8c7a33c4b65b9aebfe6a799e6d9  91e68a13d7e5471cb53796d45b04f359    11\n",
       "fafdcd668e3743c1bb461111dcafc2a4  edc7b04392144da9979f3077095f268a    11\n",
       "4d5c57ea9a6940dd891ad53e9dbe8da0  6d649a9004cc46baa932e87a84dab6f6    11\n",
       "                                  8f5146270f5745d4862514da8a7b6620    11\n",
       "ae264e3637204a6fb9bb56bc8210ddfd  3ead7d94371041fcab4db5fb57ced95c    11\n",
       "2298d6c36e964ae4a3e7e9706d1fb8c2  75e8dd3225aa47908891329611068ae7    10\n",
       "fafdcd668e3743c1bb461111dcafc2a4  2e7dd52a1b9b49dd90f5cd3cd8ad9636    10\n",
       "2906b810c7d4411798c6938adc9daaa5  3db080837a5f4137aeb5cab01f739866    10\n",
       "5a8bc65990b245e5a138643cd4eb9837  eece6a9a7bdd4ea1b0f812f34fc619d6    10\n",
       "2298d6c36e964ae4a3e7e9706d1fb8c2  71ce0f1aa7174e96bf1ddf16aa05bd30    10\n",
       "5a8bc65990b245e5a138643cd4eb9837  23d67a23296a485781e69c109a10a1cf    10\n",
       "                                                                      ..\n",
       "2906b810c7d4411798c6938adc9daaa5  9558179b943a42799dc4bd1465ef0f8c     1\n",
       "9b98b8c7a33c4b65b9aebfe6a799e6d9  855dc7295b6745ce8a2791ac508193b5     1\n",
       "2906b810c7d4411798c6938adc9daaa5  955a27cddffd457da36cca5de249aa33     1\n",
       "                                  9582f5338df0446eb43978374a530ea9     1\n",
       "3f207df678b143eea3cee63160fa8bed  9fb1b91b4b6c4bdba8b2d79a807743a4     1\n",
       "                                  9fa98f3b811645c895447491eb12883a     1\n",
       "                                  9f9aedfb14614efeb837506465b293c0     1\n",
       "9b98b8c7a33c4b65b9aebfe6a799e6d9  8571e6de79a84bcf9b211546b27d5293     1\n",
       "                                  857fc6e18cf74f7b8ebce26bbfbd3028     1\n",
       "2906b810c7d4411798c6938adc9daaa5  95bfff94b9b44ba98bb6b69bc3efc3c7     1\n",
       "3f207df678b143eea3cee63160fa8bed  9f844ff5e58845b796907df7a9364689     1\n",
       "                                  a02bb1e96a9b452cbd38a5a3c250b2c6     1\n",
       "2906b810c7d4411798c6938adc9daaa5  94d27d5fe61849dc9ea33de8352011a7     1\n",
       "f19421c1d4aa40978ebb69ca19b0e20d  7002342f48214d5bb4d7ec33e0c9e3db     1\n",
       "3f207df678b143eea3cee63160fa8bed  a06864f23e3c4709a9c1a0d22bf4be67     1\n",
       "                                  a09a2e837d2545999220c592b6c05956     1\n",
       "2906b810c7d4411798c6938adc9daaa5  94572b40498f4985932b3282a1f6fe71     1\n",
       "5a8bc65990b245e5a138643cd4eb9837  f6a6db250dd44b698988757a5bd61b89     1\n",
       "3f207df678b143eea3cee63160fa8bed  a08a56497d1a4a3097c420fd54504000     1\n",
       "                                  a0830fd4ac5240f8a4e8576008b0ebb3     1\n",
       "9b98b8c7a33c4b65b9aebfe6a799e6d9  848c8765940b4de69b0d199d2b02e3c7     1\n",
       "4d5c57ea9a6940dd891ad53e9dbe8da0  d0dac503d6f3416aa15c388ce2aff530     1\n",
       "9b98b8c7a33c4b65b9aebfe6a799e6d9  e6843a4996574eb693ab864ecc406d56     1\n",
       "ae264e3637204a6fb9bb56bc8210ddfd  822034470c124edc94fdaba2a20ec4ac     1\n",
       "2298d6c36e964ae4a3e7e9706d1fb8c2  1a9cc4b4f763429b9cb006bd78cd7a7b     1\n",
       "5a8bc65990b245e5a138643cd4eb9837  971d98b6a4054f75a6bdd20897e469ac     1\n",
       "9b98b8c7a33c4b65b9aebfe6a799e6d9  84b312074efd4a458cc21cd32dae7454     1\n",
       "3f207df678b143eea3cee63160fa8bed  a03b39358e884a7abd91f726ab6ca4a3     1\n",
       "fafdcd668e3743c1bb461111dcafc2a4  8bad0c89bddb49c4acf5c73c93657731     1\n",
       "3f207df678b143eea3cee63160fa8bed  346ca0b690b44443a4fc2bd747964066     1\n",
       "Length: 63288, dtype: int64"
      ]
     },
     "execution_count": 43,
     "metadata": {},
     "output_type": "execute_result"
    }
   ],
   "source": [
    "#lets see offers ids with empty cells\n",
    "transcript_p[transcript_p['offer_id']!=''].groupby(['offer_id','person']).size().sort_values(ascending=False)"
   ]
  },
  {
   "cell_type": "code",
   "execution_count": 44,
   "metadata": {
    "collapsed": false
   },
   "outputs": [
    {
     "data": {
      "text/html": [
       "<div>\n",
       "<style scoped>\n",
       "    .dataframe tbody tr th:only-of-type {\n",
       "        vertical-align: middle;\n",
       "    }\n",
       "\n",
       "    .dataframe tbody tr th {\n",
       "        vertical-align: top;\n",
       "    }\n",
       "\n",
       "    .dataframe thead th {\n",
       "        text-align: right;\n",
       "    }\n",
       "</style>\n",
       "<table border=\"1\" class=\"dataframe\">\n",
       "  <thead>\n",
       "    <tr style=\"text-align: right;\">\n",
       "      <th></th>\n",
       "      <th>event</th>\n",
       "      <th>person</th>\n",
       "      <th>time</th>\n",
       "      <th>value</th>\n",
       "      <th>offer_id</th>\n",
       "      <th>difficulty</th>\n",
       "      <th>duration</th>\n",
       "      <th>id</th>\n",
       "      <th>offer_type</th>\n",
       "      <th>reward</th>\n",
       "      <th>email</th>\n",
       "      <th>mobile</th>\n",
       "      <th>social</th>\n",
       "      <th>web</th>\n",
       "    </tr>\n",
       "  </thead>\n",
       "  <tbody>\n",
       "    <tr>\n",
       "      <th>6411</th>\n",
       "      <td>offer received</td>\n",
       "      <td>948ec827ac334c8782a1da99a2d6a39b</td>\n",
       "      <td>0</td>\n",
       "      <td>{'offer id': 'ae264e3637204a6fb9bb56bc8210ddfd'}</td>\n",
       "      <td>ae264e3637204a6fb9bb56bc8210ddfd</td>\n",
       "      <td>10.0</td>\n",
       "      <td>7.0</td>\n",
       "      <td>ae264e3637204a6fb9bb56bc8210ddfd</td>\n",
       "      <td>bogo</td>\n",
       "      <td>10.0</td>\n",
       "      <td>1.0</td>\n",
       "      <td>1.0</td>\n",
       "      <td>1.0</td>\n",
       "      <td>0.0</td>\n",
       "    </tr>\n",
       "    <tr>\n",
       "      <th>21307</th>\n",
       "      <td>offer viewed</td>\n",
       "      <td>948ec827ac334c8782a1da99a2d6a39b</td>\n",
       "      <td>18</td>\n",
       "      <td>{'offer id': 'ae264e3637204a6fb9bb56bc8210ddfd'}</td>\n",
       "      <td>ae264e3637204a6fb9bb56bc8210ddfd</td>\n",
       "      <td>10.0</td>\n",
       "      <td>7.0</td>\n",
       "      <td>ae264e3637204a6fb9bb56bc8210ddfd</td>\n",
       "      <td>bogo</td>\n",
       "      <td>10.0</td>\n",
       "      <td>1.0</td>\n",
       "      <td>1.0</td>\n",
       "      <td>1.0</td>\n",
       "      <td>0.0</td>\n",
       "    </tr>\n",
       "    <tr>\n",
       "      <th>21308</th>\n",
       "      <td>transaction</td>\n",
       "      <td>948ec827ac334c8782a1da99a2d6a39b</td>\n",
       "      <td>18</td>\n",
       "      <td>{'amount': 8.18}</td>\n",
       "      <td></td>\n",
       "      <td>NaN</td>\n",
       "      <td>NaN</td>\n",
       "      <td>NaN</td>\n",
       "      <td>NaN</td>\n",
       "      <td>NaN</td>\n",
       "      <td>NaN</td>\n",
       "      <td>NaN</td>\n",
       "      <td>NaN</td>\n",
       "      <td>NaN</td>\n",
       "    </tr>\n",
       "    <tr>\n",
       "      <th>28735</th>\n",
       "      <td>transaction</td>\n",
       "      <td>948ec827ac334c8782a1da99a2d6a39b</td>\n",
       "      <td>42</td>\n",
       "      <td>{'amount': 13.14}</td>\n",
       "      <td></td>\n",
       "      <td>NaN</td>\n",
       "      <td>NaN</td>\n",
       "      <td>NaN</td>\n",
       "      <td>NaN</td>\n",
       "      <td>NaN</td>\n",
       "      <td>NaN</td>\n",
       "      <td>NaN</td>\n",
       "      <td>NaN</td>\n",
       "      <td>NaN</td>\n",
       "    </tr>\n",
       "    <tr>\n",
       "      <th>28736</th>\n",
       "      <td>offer completed</td>\n",
       "      <td>948ec827ac334c8782a1da99a2d6a39b</td>\n",
       "      <td>42</td>\n",
       "      <td>{'offer_id': 'ae264e3637204a6fb9bb56bc8210ddfd', 'reward': 10}</td>\n",
       "      <td>ae264e3637204a6fb9bb56bc8210ddfd</td>\n",
       "      <td>10.0</td>\n",
       "      <td>7.0</td>\n",
       "      <td>ae264e3637204a6fb9bb56bc8210ddfd</td>\n",
       "      <td>bogo</td>\n",
       "      <td>10.0</td>\n",
       "      <td>1.0</td>\n",
       "      <td>1.0</td>\n",
       "      <td>1.0</td>\n",
       "      <td>0.0</td>\n",
       "    </tr>\n",
       "    <tr>\n",
       "      <th>31878</th>\n",
       "      <td>transaction</td>\n",
       "      <td>948ec827ac334c8782a1da99a2d6a39b</td>\n",
       "      <td>54</td>\n",
       "      <td>{'amount': 7.58}</td>\n",
       "      <td></td>\n",
       "      <td>NaN</td>\n",
       "      <td>NaN</td>\n",
       "      <td>NaN</td>\n",
       "      <td>NaN</td>\n",
       "      <td>NaN</td>\n",
       "      <td>NaN</td>\n",
       "      <td>NaN</td>\n",
       "      <td>NaN</td>\n",
       "      <td>NaN</td>\n",
       "    </tr>\n",
       "    <tr>\n",
       "      <th>59615</th>\n",
       "      <td>offer received</td>\n",
       "      <td>948ec827ac334c8782a1da99a2d6a39b</td>\n",
       "      <td>168</td>\n",
       "      <td>{'offer id': 'ae264e3637204a6fb9bb56bc8210ddfd'}</td>\n",
       "      <td>ae264e3637204a6fb9bb56bc8210ddfd</td>\n",
       "      <td>10.0</td>\n",
       "      <td>7.0</td>\n",
       "      <td>ae264e3637204a6fb9bb56bc8210ddfd</td>\n",
       "      <td>bogo</td>\n",
       "      <td>10.0</td>\n",
       "      <td>1.0</td>\n",
       "      <td>1.0</td>\n",
       "      <td>1.0</td>\n",
       "      <td>0.0</td>\n",
       "    </tr>\n",
       "    <tr>\n",
       "      <th>67664</th>\n",
       "      <td>offer viewed</td>\n",
       "      <td>948ec827ac334c8782a1da99a2d6a39b</td>\n",
       "      <td>168</td>\n",
       "      <td>{'offer id': 'ae264e3637204a6fb9bb56bc8210ddfd'}</td>\n",
       "      <td>ae264e3637204a6fb9bb56bc8210ddfd</td>\n",
       "      <td>10.0</td>\n",
       "      <td>7.0</td>\n",
       "      <td>ae264e3637204a6fb9bb56bc8210ddfd</td>\n",
       "      <td>bogo</td>\n",
       "      <td>10.0</td>\n",
       "      <td>1.0</td>\n",
       "      <td>1.0</td>\n",
       "      <td>1.0</td>\n",
       "      <td>0.0</td>\n",
       "    </tr>\n",
       "    <tr>\n",
       "      <th>73552</th>\n",
       "      <td>transaction</td>\n",
       "      <td>948ec827ac334c8782a1da99a2d6a39b</td>\n",
       "      <td>180</td>\n",
       "      <td>{'amount': 9.65}</td>\n",
       "      <td></td>\n",
       "      <td>NaN</td>\n",
       "      <td>NaN</td>\n",
       "      <td>NaN</td>\n",
       "      <td>NaN</td>\n",
       "      <td>NaN</td>\n",
       "      <td>NaN</td>\n",
       "      <td>NaN</td>\n",
       "      <td>NaN</td>\n",
       "      <td>NaN</td>\n",
       "    </tr>\n",
       "    <tr>\n",
       "      <th>88036</th>\n",
       "      <td>transaction</td>\n",
       "      <td>948ec827ac334c8782a1da99a2d6a39b</td>\n",
       "      <td>222</td>\n",
       "      <td>{'amount': 10.25}</td>\n",
       "      <td></td>\n",
       "      <td>NaN</td>\n",
       "      <td>NaN</td>\n",
       "      <td>NaN</td>\n",
       "      <td>NaN</td>\n",
       "      <td>NaN</td>\n",
       "      <td>NaN</td>\n",
       "      <td>NaN</td>\n",
       "      <td>NaN</td>\n",
       "      <td>NaN</td>\n",
       "    </tr>\n",
       "    <tr>\n",
       "      <th>88037</th>\n",
       "      <td>offer completed</td>\n",
       "      <td>948ec827ac334c8782a1da99a2d6a39b</td>\n",
       "      <td>222</td>\n",
       "      <td>{'offer_id': 'ae264e3637204a6fb9bb56bc8210ddfd', 'reward': 10}</td>\n",
       "      <td>ae264e3637204a6fb9bb56bc8210ddfd</td>\n",
       "      <td>10.0</td>\n",
       "      <td>7.0</td>\n",
       "      <td>ae264e3637204a6fb9bb56bc8210ddfd</td>\n",
       "      <td>bogo</td>\n",
       "      <td>10.0</td>\n",
       "      <td>1.0</td>\n",
       "      <td>1.0</td>\n",
       "      <td>1.0</td>\n",
       "      <td>0.0</td>\n",
       "    </tr>\n",
       "    <tr>\n",
       "      <th>95763</th>\n",
       "      <td>transaction</td>\n",
       "      <td>948ec827ac334c8782a1da99a2d6a39b</td>\n",
       "      <td>252</td>\n",
       "      <td>{'amount': 12.14}</td>\n",
       "      <td></td>\n",
       "      <td>NaN</td>\n",
       "      <td>NaN</td>\n",
       "      <td>NaN</td>\n",
       "      <td>NaN</td>\n",
       "      <td>NaN</td>\n",
       "      <td>NaN</td>\n",
       "      <td>NaN</td>\n",
       "      <td>NaN</td>\n",
       "      <td>NaN</td>\n",
       "    </tr>\n",
       "    <tr>\n",
       "      <th>97056</th>\n",
       "      <td>transaction</td>\n",
       "      <td>948ec827ac334c8782a1da99a2d6a39b</td>\n",
       "      <td>258</td>\n",
       "      <td>{'amount': 26.48}</td>\n",
       "      <td></td>\n",
       "      <td>NaN</td>\n",
       "      <td>NaN</td>\n",
       "      <td>NaN</td>\n",
       "      <td>NaN</td>\n",
       "      <td>NaN</td>\n",
       "      <td>NaN</td>\n",
       "      <td>NaN</td>\n",
       "      <td>NaN</td>\n",
       "      <td>NaN</td>\n",
       "    </tr>\n",
       "    <tr>\n",
       "      <th>100865</th>\n",
       "      <td>transaction</td>\n",
       "      <td>948ec827ac334c8782a1da99a2d6a39b</td>\n",
       "      <td>276</td>\n",
       "      <td>{'amount': 9.05}</td>\n",
       "      <td></td>\n",
       "      <td>NaN</td>\n",
       "      <td>NaN</td>\n",
       "      <td>NaN</td>\n",
       "      <td>NaN</td>\n",
       "      <td>NaN</td>\n",
       "      <td>NaN</td>\n",
       "      <td>NaN</td>\n",
       "      <td>NaN</td>\n",
       "      <td>NaN</td>\n",
       "    </tr>\n",
       "    <tr>\n",
       "      <th>104336</th>\n",
       "      <td>transaction</td>\n",
       "      <td>948ec827ac334c8782a1da99a2d6a39b</td>\n",
       "      <td>294</td>\n",
       "      <td>{'amount': 9.38}</td>\n",
       "      <td></td>\n",
       "      <td>NaN</td>\n",
       "      <td>NaN</td>\n",
       "      <td>NaN</td>\n",
       "      <td>NaN</td>\n",
       "      <td>NaN</td>\n",
       "      <td>NaN</td>\n",
       "      <td>NaN</td>\n",
       "      <td>NaN</td>\n",
       "      <td>NaN</td>\n",
       "    </tr>\n",
       "    <tr>\n",
       "      <th>117278</th>\n",
       "      <td>offer received</td>\n",
       "      <td>948ec827ac334c8782a1da99a2d6a39b</td>\n",
       "      <td>336</td>\n",
       "      <td>{'offer id': 'ae264e3637204a6fb9bb56bc8210ddfd'}</td>\n",
       "      <td>ae264e3637204a6fb9bb56bc8210ddfd</td>\n",
       "      <td>10.0</td>\n",
       "      <td>7.0</td>\n",
       "      <td>ae264e3637204a6fb9bb56bc8210ddfd</td>\n",
       "      <td>bogo</td>\n",
       "      <td>10.0</td>\n",
       "      <td>1.0</td>\n",
       "      <td>1.0</td>\n",
       "      <td>1.0</td>\n",
       "      <td>0.0</td>\n",
       "    </tr>\n",
       "    <tr>\n",
       "      <th>125419</th>\n",
       "      <td>offer viewed</td>\n",
       "      <td>948ec827ac334c8782a1da99a2d6a39b</td>\n",
       "      <td>336</td>\n",
       "      <td>{'offer id': 'ae264e3637204a6fb9bb56bc8210ddfd'}</td>\n",
       "      <td>ae264e3637204a6fb9bb56bc8210ddfd</td>\n",
       "      <td>10.0</td>\n",
       "      <td>7.0</td>\n",
       "      <td>ae264e3637204a6fb9bb56bc8210ddfd</td>\n",
       "      <td>bogo</td>\n",
       "      <td>10.0</td>\n",
       "      <td>1.0</td>\n",
       "      <td>1.0</td>\n",
       "      <td>1.0</td>\n",
       "      <td>0.0</td>\n",
       "    </tr>\n",
       "    <tr>\n",
       "      <th>146317</th>\n",
       "      <td>transaction</td>\n",
       "      <td>948ec827ac334c8782a1da99a2d6a39b</td>\n",
       "      <td>390</td>\n",
       "      <td>{'amount': 18.07}</td>\n",
       "      <td></td>\n",
       "      <td>NaN</td>\n",
       "      <td>NaN</td>\n",
       "      <td>NaN</td>\n",
       "      <td>NaN</td>\n",
       "      <td>NaN</td>\n",
       "      <td>NaN</td>\n",
       "      <td>NaN</td>\n",
       "      <td>NaN</td>\n",
       "      <td>NaN</td>\n",
       "    </tr>\n",
       "    <tr>\n",
       "      <th>146318</th>\n",
       "      <td>offer completed</td>\n",
       "      <td>948ec827ac334c8782a1da99a2d6a39b</td>\n",
       "      <td>390</td>\n",
       "      <td>{'offer_id': 'ae264e3637204a6fb9bb56bc8210ddfd', 'reward': 10}</td>\n",
       "      <td>ae264e3637204a6fb9bb56bc8210ddfd</td>\n",
       "      <td>10.0</td>\n",
       "      <td>7.0</td>\n",
       "      <td>ae264e3637204a6fb9bb56bc8210ddfd</td>\n",
       "      <td>bogo</td>\n",
       "      <td>10.0</td>\n",
       "      <td>1.0</td>\n",
       "      <td>1.0</td>\n",
       "      <td>1.0</td>\n",
       "      <td>0.0</td>\n",
       "    </tr>\n",
       "    <tr>\n",
       "      <th>157080</th>\n",
       "      <td>offer received</td>\n",
       "      <td>948ec827ac334c8782a1da99a2d6a39b</td>\n",
       "      <td>408</td>\n",
       "      <td>{'offer id': 'ae264e3637204a6fb9bb56bc8210ddfd'}</td>\n",
       "      <td>ae264e3637204a6fb9bb56bc8210ddfd</td>\n",
       "      <td>10.0</td>\n",
       "      <td>7.0</td>\n",
       "      <td>ae264e3637204a6fb9bb56bc8210ddfd</td>\n",
       "      <td>bogo</td>\n",
       "      <td>10.0</td>\n",
       "      <td>1.0</td>\n",
       "      <td>1.0</td>\n",
       "      <td>1.0</td>\n",
       "      <td>0.0</td>\n",
       "    </tr>\n",
       "    <tr>\n",
       "      <th>169449</th>\n",
       "      <td>offer viewed</td>\n",
       "      <td>948ec827ac334c8782a1da99a2d6a39b</td>\n",
       "      <td>414</td>\n",
       "      <td>{'offer id': 'ae264e3637204a6fb9bb56bc8210ddfd'}</td>\n",
       "      <td>ae264e3637204a6fb9bb56bc8210ddfd</td>\n",
       "      <td>10.0</td>\n",
       "      <td>7.0</td>\n",
       "      <td>ae264e3637204a6fb9bb56bc8210ddfd</td>\n",
       "      <td>bogo</td>\n",
       "      <td>10.0</td>\n",
       "      <td>1.0</td>\n",
       "      <td>1.0</td>\n",
       "      <td>1.0</td>\n",
       "      <td>0.0</td>\n",
       "    </tr>\n",
       "    <tr>\n",
       "      <th>172834</th>\n",
       "      <td>transaction</td>\n",
       "      <td>948ec827ac334c8782a1da99a2d6a39b</td>\n",
       "      <td>420</td>\n",
       "      <td>{'amount': 10.8}</td>\n",
       "      <td></td>\n",
       "      <td>NaN</td>\n",
       "      <td>NaN</td>\n",
       "      <td>NaN</td>\n",
       "      <td>NaN</td>\n",
       "      <td>NaN</td>\n",
       "      <td>NaN</td>\n",
       "      <td>NaN</td>\n",
       "      <td>NaN</td>\n",
       "      <td>NaN</td>\n",
       "    </tr>\n",
       "    <tr>\n",
       "      <th>172835</th>\n",
       "      <td>offer completed</td>\n",
       "      <td>948ec827ac334c8782a1da99a2d6a39b</td>\n",
       "      <td>420</td>\n",
       "      <td>{'offer_id': 'ae264e3637204a6fb9bb56bc8210ddfd', 'reward': 10}</td>\n",
       "      <td>ae264e3637204a6fb9bb56bc8210ddfd</td>\n",
       "      <td>10.0</td>\n",
       "      <td>7.0</td>\n",
       "      <td>ae264e3637204a6fb9bb56bc8210ddfd</td>\n",
       "      <td>bogo</td>\n",
       "      <td>10.0</td>\n",
       "      <td>1.0</td>\n",
       "      <td>1.0</td>\n",
       "      <td>1.0</td>\n",
       "      <td>0.0</td>\n",
       "    </tr>\n",
       "    <tr>\n",
       "      <th>186028</th>\n",
       "      <td>transaction</td>\n",
       "      <td>948ec827ac334c8782a1da99a2d6a39b</td>\n",
       "      <td>450</td>\n",
       "      <td>{'amount': 7.03}</td>\n",
       "      <td></td>\n",
       "      <td>NaN</td>\n",
       "      <td>NaN</td>\n",
       "      <td>NaN</td>\n",
       "      <td>NaN</td>\n",
       "      <td>NaN</td>\n",
       "      <td>NaN</td>\n",
       "      <td>NaN</td>\n",
       "      <td>NaN</td>\n",
       "      <td>NaN</td>\n",
       "    </tr>\n",
       "    <tr>\n",
       "      <th>229166</th>\n",
       "      <td>transaction</td>\n",
       "      <td>948ec827ac334c8782a1da99a2d6a39b</td>\n",
       "      <td>528</td>\n",
       "      <td>{'amount': 3.61}</td>\n",
       "      <td></td>\n",
       "      <td>NaN</td>\n",
       "      <td>NaN</td>\n",
       "      <td>NaN</td>\n",
       "      <td>NaN</td>\n",
       "      <td>NaN</td>\n",
       "      <td>NaN</td>\n",
       "      <td>NaN</td>\n",
       "      <td>NaN</td>\n",
       "      <td>NaN</td>\n",
       "    </tr>\n",
       "    <tr>\n",
       "      <th>231698</th>\n",
       "      <td>transaction</td>\n",
       "      <td>948ec827ac334c8782a1da99a2d6a39b</td>\n",
       "      <td>534</td>\n",
       "      <td>{'amount': 18.12}</td>\n",
       "      <td></td>\n",
       "      <td>NaN</td>\n",
       "      <td>NaN</td>\n",
       "      <td>NaN</td>\n",
       "      <td>NaN</td>\n",
       "      <td>NaN</td>\n",
       "      <td>NaN</td>\n",
       "      <td>NaN</td>\n",
       "      <td>NaN</td>\n",
       "      <td>NaN</td>\n",
       "    </tr>\n",
       "    <tr>\n",
       "      <th>234044</th>\n",
       "      <td>transaction</td>\n",
       "      <td>948ec827ac334c8782a1da99a2d6a39b</td>\n",
       "      <td>540</td>\n",
       "      <td>{'amount': 10.65}</td>\n",
       "      <td></td>\n",
       "      <td>NaN</td>\n",
       "      <td>NaN</td>\n",
       "      <td>NaN</td>\n",
       "      <td>NaN</td>\n",
       "      <td>NaN</td>\n",
       "      <td>NaN</td>\n",
       "      <td>NaN</td>\n",
       "      <td>NaN</td>\n",
       "      <td>NaN</td>\n",
       "    </tr>\n",
       "    <tr>\n",
       "      <th>300003</th>\n",
       "      <td>transaction</td>\n",
       "      <td>948ec827ac334c8782a1da99a2d6a39b</td>\n",
       "      <td>684</td>\n",
       "      <td>{'amount': 8.26}</td>\n",
       "      <td></td>\n",
       "      <td>NaN</td>\n",
       "      <td>NaN</td>\n",
       "      <td>NaN</td>\n",
       "      <td>NaN</td>\n",
       "      <td>NaN</td>\n",
       "      <td>NaN</td>\n",
       "      <td>NaN</td>\n",
       "      <td>NaN</td>\n",
       "      <td>NaN</td>\n",
       "    </tr>\n",
       "  </tbody>\n",
       "</table>\n",
       "</div>"
      ],
      "text/plain": [
       "                  event                            person  time                                                           value                          offer_id  difficulty  duration                                id offer_type  reward  email  mobile  social  web\n",
       "6411     offer received  948ec827ac334c8782a1da99a2d6a39b     0                {'offer id': 'ae264e3637204a6fb9bb56bc8210ddfd'}  ae264e3637204a6fb9bb56bc8210ddfd        10.0       7.0  ae264e3637204a6fb9bb56bc8210ddfd       bogo    10.0    1.0     1.0     1.0  0.0\n",
       "21307      offer viewed  948ec827ac334c8782a1da99a2d6a39b    18                {'offer id': 'ae264e3637204a6fb9bb56bc8210ddfd'}  ae264e3637204a6fb9bb56bc8210ddfd        10.0       7.0  ae264e3637204a6fb9bb56bc8210ddfd       bogo    10.0    1.0     1.0     1.0  0.0\n",
       "21308       transaction  948ec827ac334c8782a1da99a2d6a39b    18                                                {'amount': 8.18}                                           NaN       NaN                               NaN        NaN     NaN    NaN     NaN     NaN  NaN\n",
       "28735       transaction  948ec827ac334c8782a1da99a2d6a39b    42                                               {'amount': 13.14}                                           NaN       NaN                               NaN        NaN     NaN    NaN     NaN     NaN  NaN\n",
       "28736   offer completed  948ec827ac334c8782a1da99a2d6a39b    42  {'offer_id': 'ae264e3637204a6fb9bb56bc8210ddfd', 'reward': 10}  ae264e3637204a6fb9bb56bc8210ddfd        10.0       7.0  ae264e3637204a6fb9bb56bc8210ddfd       bogo    10.0    1.0     1.0     1.0  0.0\n",
       "31878       transaction  948ec827ac334c8782a1da99a2d6a39b    54                                                {'amount': 7.58}                                           NaN       NaN                               NaN        NaN     NaN    NaN     NaN     NaN  NaN\n",
       "59615    offer received  948ec827ac334c8782a1da99a2d6a39b   168                {'offer id': 'ae264e3637204a6fb9bb56bc8210ddfd'}  ae264e3637204a6fb9bb56bc8210ddfd        10.0       7.0  ae264e3637204a6fb9bb56bc8210ddfd       bogo    10.0    1.0     1.0     1.0  0.0\n",
       "67664      offer viewed  948ec827ac334c8782a1da99a2d6a39b   168                {'offer id': 'ae264e3637204a6fb9bb56bc8210ddfd'}  ae264e3637204a6fb9bb56bc8210ddfd        10.0       7.0  ae264e3637204a6fb9bb56bc8210ddfd       bogo    10.0    1.0     1.0     1.0  0.0\n",
       "73552       transaction  948ec827ac334c8782a1da99a2d6a39b   180                                                {'amount': 9.65}                                           NaN       NaN                               NaN        NaN     NaN    NaN     NaN     NaN  NaN\n",
       "88036       transaction  948ec827ac334c8782a1da99a2d6a39b   222                                               {'amount': 10.25}                                           NaN       NaN                               NaN        NaN     NaN    NaN     NaN     NaN  NaN\n",
       "88037   offer completed  948ec827ac334c8782a1da99a2d6a39b   222  {'offer_id': 'ae264e3637204a6fb9bb56bc8210ddfd', 'reward': 10}  ae264e3637204a6fb9bb56bc8210ddfd        10.0       7.0  ae264e3637204a6fb9bb56bc8210ddfd       bogo    10.0    1.0     1.0     1.0  0.0\n",
       "95763       transaction  948ec827ac334c8782a1da99a2d6a39b   252                                               {'amount': 12.14}                                           NaN       NaN                               NaN        NaN     NaN    NaN     NaN     NaN  NaN\n",
       "97056       transaction  948ec827ac334c8782a1da99a2d6a39b   258                                               {'amount': 26.48}                                           NaN       NaN                               NaN        NaN     NaN    NaN     NaN     NaN  NaN\n",
       "100865      transaction  948ec827ac334c8782a1da99a2d6a39b   276                                                {'amount': 9.05}                                           NaN       NaN                               NaN        NaN     NaN    NaN     NaN     NaN  NaN\n",
       "104336      transaction  948ec827ac334c8782a1da99a2d6a39b   294                                                {'amount': 9.38}                                           NaN       NaN                               NaN        NaN     NaN    NaN     NaN     NaN  NaN\n",
       "117278   offer received  948ec827ac334c8782a1da99a2d6a39b   336                {'offer id': 'ae264e3637204a6fb9bb56bc8210ddfd'}  ae264e3637204a6fb9bb56bc8210ddfd        10.0       7.0  ae264e3637204a6fb9bb56bc8210ddfd       bogo    10.0    1.0     1.0     1.0  0.0\n",
       "125419     offer viewed  948ec827ac334c8782a1da99a2d6a39b   336                {'offer id': 'ae264e3637204a6fb9bb56bc8210ddfd'}  ae264e3637204a6fb9bb56bc8210ddfd        10.0       7.0  ae264e3637204a6fb9bb56bc8210ddfd       bogo    10.0    1.0     1.0     1.0  0.0\n",
       "146317      transaction  948ec827ac334c8782a1da99a2d6a39b   390                                               {'amount': 18.07}                                           NaN       NaN                               NaN        NaN     NaN    NaN     NaN     NaN  NaN\n",
       "146318  offer completed  948ec827ac334c8782a1da99a2d6a39b   390  {'offer_id': 'ae264e3637204a6fb9bb56bc8210ddfd', 'reward': 10}  ae264e3637204a6fb9bb56bc8210ddfd        10.0       7.0  ae264e3637204a6fb9bb56bc8210ddfd       bogo    10.0    1.0     1.0     1.0  0.0\n",
       "157080   offer received  948ec827ac334c8782a1da99a2d6a39b   408                {'offer id': 'ae264e3637204a6fb9bb56bc8210ddfd'}  ae264e3637204a6fb9bb56bc8210ddfd        10.0       7.0  ae264e3637204a6fb9bb56bc8210ddfd       bogo    10.0    1.0     1.0     1.0  0.0\n",
       "169449     offer viewed  948ec827ac334c8782a1da99a2d6a39b   414                {'offer id': 'ae264e3637204a6fb9bb56bc8210ddfd'}  ae264e3637204a6fb9bb56bc8210ddfd        10.0       7.0  ae264e3637204a6fb9bb56bc8210ddfd       bogo    10.0    1.0     1.0     1.0  0.0\n",
       "172834      transaction  948ec827ac334c8782a1da99a2d6a39b   420                                                {'amount': 10.8}                                           NaN       NaN                               NaN        NaN     NaN    NaN     NaN     NaN  NaN\n",
       "172835  offer completed  948ec827ac334c8782a1da99a2d6a39b   420  {'offer_id': 'ae264e3637204a6fb9bb56bc8210ddfd', 'reward': 10}  ae264e3637204a6fb9bb56bc8210ddfd        10.0       7.0  ae264e3637204a6fb9bb56bc8210ddfd       bogo    10.0    1.0     1.0     1.0  0.0\n",
       "186028      transaction  948ec827ac334c8782a1da99a2d6a39b   450                                                {'amount': 7.03}                                           NaN       NaN                               NaN        NaN     NaN    NaN     NaN     NaN  NaN\n",
       "229166      transaction  948ec827ac334c8782a1da99a2d6a39b   528                                                {'amount': 3.61}                                           NaN       NaN                               NaN        NaN     NaN    NaN     NaN     NaN  NaN\n",
       "231698      transaction  948ec827ac334c8782a1da99a2d6a39b   534                                               {'amount': 18.12}                                           NaN       NaN                               NaN        NaN     NaN    NaN     NaN     NaN  NaN\n",
       "234044      transaction  948ec827ac334c8782a1da99a2d6a39b   540                                               {'amount': 10.65}                                           NaN       NaN                               NaN        NaN     NaN    NaN     NaN     NaN  NaN\n",
       "300003      transaction  948ec827ac334c8782a1da99a2d6a39b   684                                                {'amount': 8.26}                                           NaN       NaN                               NaN        NaN     NaN    NaN     NaN     NaN  NaN"
      ]
     },
     "execution_count": 44,
     "metadata": {},
     "output_type": "execute_result"
    }
   ],
   "source": [
    "#lets see another person \n",
    "transcript_p[transcript_p['person']=='948ec827ac334c8782a1da99a2d6a39b']"
   ]
  },
  {
   "cell_type": "code",
   "execution_count": 45,
   "metadata": {
    "collapsed": false
   },
   "outputs": [
    {
     "data": {
      "text/plain": [
       "(76277, 14)"
      ]
     },
     "execution_count": 45,
     "metadata": {},
     "output_type": "execute_result"
    }
   ],
   "source": [
    "#need to see the shape of offer received table to reconcile with merged table\n",
    "transcript_p[transcript_p['event']=='offer received'].shape"
   ]
  },
  {
   "cell_type": "markdown",
   "metadata": {},
   "source": [
    "Lets create two features, is_completed and is_viewed. We will join the tables derived from transcripts, where the offer was received and offer was completed based on person and offer id with the condition where time column should be consquential, i.e. offer completed should follow after offer received if their person id and offer id as the same. And if this offer was completed within the appropriate duration time, then it will be marked as completed. Similarly, we will create is_viewed column, which will indicate if the offer was viewed. "
   ]
  },
  {
   "cell_type": "code",
   "execution_count": 46,
   "metadata": {
    "collapsed": true
   },
   "outputs": [],
   "source": [
    "offers = transcript_p[['person','time','offer_id','duration']][transcript_p['event']=='offer received']\n",
    "t = transcript_p[transcript_p['event']=='offer completed']\n",
    "t['time_y']=t['time'] #need to have a copy of time column to merge below\n",
    "#merge_asof allows to merge using specific columns and another columns in specific direction forward or back\n",
    "transcript_m = pd.merge_asof(offers, t,on='time',by=['person','offer_id'], direction='forward' )\n",
    "#need to assign transcript_m table correct indices\n",
    "transcript_m.index = offers.index\n",
    "#new columns allows to see if the offer was completed in allocated time, which is duration * 24 hours\n",
    "offers['is_completed']=((transcript_m['time_y']-transcript_m['time'])<=transcript_m['duration_x']*24)*1\n",
    "\n",
    "\n",
    "t = transcript_p[transcript_p['event']=='offer viewed']\n",
    "t['time_y']=t['time']\n",
    "transcript_m = pd.merge_asof(offers, t,on='time',by=['person','offer_id'], direction='forward' )\n",
    "transcript_m.index = offers.index\n",
    "offers['is_viewed']=((transcript_m['time_y']-transcript_m['time'])<=transcript_m['duration_x']*24)*1"
   ]
  },
  {
   "cell_type": "code",
   "execution_count": 47,
   "metadata": {
    "collapsed": false
   },
   "outputs": [
    {
     "data": {
      "text/html": [
       "<div>\n",
       "<style scoped>\n",
       "    .dataframe tbody tr th:only-of-type {\n",
       "        vertical-align: middle;\n",
       "    }\n",
       "\n",
       "    .dataframe tbody tr th {\n",
       "        vertical-align: top;\n",
       "    }\n",
       "\n",
       "    .dataframe thead th {\n",
       "        text-align: right;\n",
       "    }\n",
       "</style>\n",
       "<table border=\"1\" class=\"dataframe\">\n",
       "  <thead>\n",
       "    <tr style=\"text-align: right;\">\n",
       "      <th></th>\n",
       "      <th>person</th>\n",
       "      <th>time</th>\n",
       "      <th>offer_id</th>\n",
       "      <th>duration</th>\n",
       "      <th>is_completed</th>\n",
       "      <th>is_viewed</th>\n",
       "    </tr>\n",
       "  </thead>\n",
       "  <tbody>\n",
       "    <tr>\n",
       "      <th>0</th>\n",
       "      <td>78afa995795e4d85b5d9ceeca43f5fef</td>\n",
       "      <td>0</td>\n",
       "      <td>9b98b8c7a33c4b65b9aebfe6a799e6d9</td>\n",
       "      <td>7.0</td>\n",
       "      <td>1</td>\n",
       "      <td>1</td>\n",
       "    </tr>\n",
       "    <tr>\n",
       "      <th>1</th>\n",
       "      <td>a03223e636434f42ac4c3df47e8bac43</td>\n",
       "      <td>0</td>\n",
       "      <td>0b1e1539f2cc45b7b9fa7c272da2e1d7</td>\n",
       "      <td>10.0</td>\n",
       "      <td>0</td>\n",
       "      <td>1</td>\n",
       "    </tr>\n",
       "    <tr>\n",
       "      <th>2</th>\n",
       "      <td>e2127556f4f64592b11af22de27a7932</td>\n",
       "      <td>0</td>\n",
       "      <td>2906b810c7d4411798c6938adc9daaa5</td>\n",
       "      <td>7.0</td>\n",
       "      <td>0</td>\n",
       "      <td>1</td>\n",
       "    </tr>\n",
       "    <tr>\n",
       "      <th>3</th>\n",
       "      <td>8ec6ce2a7e7949b1bf142def7d0e0586</td>\n",
       "      <td>0</td>\n",
       "      <td>fafdcd668e3743c1bb461111dcafc2a4</td>\n",
       "      <td>10.0</td>\n",
       "      <td>0</td>\n",
       "      <td>1</td>\n",
       "    </tr>\n",
       "    <tr>\n",
       "      <th>4</th>\n",
       "      <td>68617ca6246f4fbc85e91a2a49552598</td>\n",
       "      <td>0</td>\n",
       "      <td>4d5c57ea9a6940dd891ad53e9dbe8da0</td>\n",
       "      <td>5.0</td>\n",
       "      <td>0</td>\n",
       "      <td>1</td>\n",
       "    </tr>\n",
       "  </tbody>\n",
       "</table>\n",
       "</div>"
      ],
      "text/plain": [
       "                             person  time                          offer_id  duration  is_completed  is_viewed\n",
       "0  78afa995795e4d85b5d9ceeca43f5fef     0  9b98b8c7a33c4b65b9aebfe6a799e6d9       7.0             1          1\n",
       "1  a03223e636434f42ac4c3df47e8bac43     0  0b1e1539f2cc45b7b9fa7c272da2e1d7      10.0             0          1\n",
       "2  e2127556f4f64592b11af22de27a7932     0  2906b810c7d4411798c6938adc9daaa5       7.0             0          1\n",
       "3  8ec6ce2a7e7949b1bf142def7d0e0586     0  fafdcd668e3743c1bb461111dcafc2a4      10.0             0          1\n",
       "4  68617ca6246f4fbc85e91a2a49552598     0  4d5c57ea9a6940dd891ad53e9dbe8da0       5.0             0          1"
      ]
     },
     "execution_count": 47,
     "metadata": {},
     "output_type": "execute_result"
    }
   ],
   "source": [
    "offers.head()"
   ]
  },
  {
   "cell_type": "code",
   "execution_count": 48,
   "metadata": {
    "collapsed": false
   },
   "outputs": [
    {
     "data": {
      "text/plain": [
       "(76277, 14)"
      ]
     },
     "execution_count": 48,
     "metadata": {},
     "output_type": "execute_result"
    }
   ],
   "source": [
    "#check wither the rows reconcile with the offers table\n",
    "transcript_p[transcript_p['event']=='offer received'].shape"
   ]
  },
  {
   "cell_type": "markdown",
   "metadata": {},
   "source": [
    "#### Lets identify the person who neither received nor compleated any of the offers and add them to the offers table.\n",
    "Thus we will have a table containing information "
   ]
  },
  {
   "cell_type": "code",
   "execution_count": 49,
   "metadata": {
    "collapsed": true
   },
   "outputs": [],
   "source": [
    "#List of all users\n",
    "user_list = transcript_p['person'].unique()"
   ]
  },
  {
   "cell_type": "code",
   "execution_count": 50,
   "metadata": {
    "collapsed": false,
    "scrolled": true
   },
   "outputs": [
    {
     "data": {
      "text/plain": [
       "408    12778\n",
       "576    12765\n",
       "336    12711\n",
       "504    12704\n",
       "168    12669\n",
       "0      12650\n",
       "Name: time, dtype: int64"
      ]
     },
     "execution_count": 50,
     "metadata": {},
     "output_type": "execute_result"
    }
   ],
   "source": [
    "#time of each offer\n",
    "transcript_p[transcript_p['event']=='offer received']['time'].value_counts()"
   ]
  },
  {
   "cell_type": "code",
   "execution_count": 51,
   "metadata": {
    "collapsed": true
   },
   "outputs": [],
   "source": [
    "time_intervals=sorted(transcript_p[transcript_p['event']=='offer received']['time'].unique())+[transcript_p['time'].max()+1]"
   ]
  },
  {
   "cell_type": "code",
   "execution_count": 52,
   "metadata": {
    "collapsed": false
   },
   "outputs": [
    {
     "data": {
      "text/plain": [
       "[0, 168, 336, 408, 504, 576, 715]"
      ]
     },
     "execution_count": 52,
     "metadata": {},
     "output_type": "execute_result"
    }
   ],
   "source": [
    "time_intervals"
   ]
  },
  {
   "cell_type": "code",
   "execution_count": 53,
   "metadata": {
    "collapsed": true
   },
   "outputs": [],
   "source": [
    "#function to create info on offers which were never made in each time when the valid offer was sent\n",
    "# we want to identify the users who was making transactions even when they did not receive any offers\n",
    "# and have such users added to the final table\n",
    "def no_offer(df):\n",
    "    \"\"\"\n",
    "    person is those who didn't receive an offer within time intervals\n",
    "    columns is_completed is for those who did not receive any offers but completed transaction \n",
    "    \"\"\"\n",
    "    time = df['time'].min()\n",
    "    x=df[df['event']=='offer received']\n",
    "    no_offer_users =pd.DataFrame({'person':list(set(user_list) - set(x.person)),\n",
    "                              'offer_id':'no_offer', \n",
    "                              'time':time, \n",
    "                              'duration': np.nan,\n",
    "                              'is_viewed':np.nan } )\n",
    "    no_offer_users['is_completed'] = no_offer_users['person'].\\\n",
    "    isin(df['person'][df['event']=='transaction'])*1\n",
    "    \n",
    "    return no_offer_users"
   ]
  },
  {
   "cell_type": "markdown",
   "metadata": {},
   "source": [
    "Applying the above function to our df, while using pd.cut function which allows to have time intervals, i.e. when we need to segment and sort data values into bins. This function is also useful for going from a continuous variable to a categorical variable"
   ]
  },
  {
   "cell_type": "code",
   "execution_count": 54,
   "metadata": {
    "collapsed": false
   },
   "outputs": [
    {
     "data": {
      "text/html": [
       "<div>\n",
       "<style scoped>\n",
       "    .dataframe tbody tr th:only-of-type {\n",
       "        vertical-align: middle;\n",
       "    }\n",
       "\n",
       "    .dataframe tbody tr th {\n",
       "        vertical-align: top;\n",
       "    }\n",
       "\n",
       "    .dataframe thead th {\n",
       "        text-align: right;\n",
       "    }\n",
       "</style>\n",
       "<table border=\"1\" class=\"dataframe\">\n",
       "  <thead>\n",
       "    <tr style=\"text-align: right;\">\n",
       "      <th></th>\n",
       "      <th></th>\n",
       "      <th>person</th>\n",
       "      <th>offer_id</th>\n",
       "      <th>time</th>\n",
       "      <th>duration</th>\n",
       "      <th>is_viewed</th>\n",
       "      <th>is_completed</th>\n",
       "    </tr>\n",
       "    <tr>\n",
       "      <th>time</th>\n",
       "      <th></th>\n",
       "      <th></th>\n",
       "      <th></th>\n",
       "      <th></th>\n",
       "      <th></th>\n",
       "      <th></th>\n",
       "      <th></th>\n",
       "    </tr>\n",
       "  </thead>\n",
       "  <tbody>\n",
       "    <tr>\n",
       "      <th rowspan=\"5\" valign=\"top\">[0, 168)</th>\n",
       "      <th>0</th>\n",
       "      <td>2d6ed5cd4f2347d1a381e9e938824e29</td>\n",
       "      <td>no_offer</td>\n",
       "      <td>0</td>\n",
       "      <td>NaN</td>\n",
       "      <td>NaN</td>\n",
       "      <td>0</td>\n",
       "    </tr>\n",
       "    <tr>\n",
       "      <th>1</th>\n",
       "      <td>47e7f9c17bbe4562b6e85b8136a1c9a0</td>\n",
       "      <td>no_offer</td>\n",
       "      <td>0</td>\n",
       "      <td>NaN</td>\n",
       "      <td>NaN</td>\n",
       "      <td>0</td>\n",
       "    </tr>\n",
       "    <tr>\n",
       "      <th>2</th>\n",
       "      <td>700f2b3ea88643e0a65722cfb71f543b</td>\n",
       "      <td>no_offer</td>\n",
       "      <td>0</td>\n",
       "      <td>NaN</td>\n",
       "      <td>NaN</td>\n",
       "      <td>0</td>\n",
       "    </tr>\n",
       "    <tr>\n",
       "      <th>3</th>\n",
       "      <td>b77a7b51bf384b4ba2b0d893f792edaa</td>\n",
       "      <td>no_offer</td>\n",
       "      <td>0</td>\n",
       "      <td>NaN</td>\n",
       "      <td>NaN</td>\n",
       "      <td>1</td>\n",
       "    </tr>\n",
       "    <tr>\n",
       "      <th>4</th>\n",
       "      <td>72c31f4851d14c85aef4fe06f9c13c4a</td>\n",
       "      <td>no_offer</td>\n",
       "      <td>0</td>\n",
       "      <td>NaN</td>\n",
       "      <td>NaN</td>\n",
       "      <td>0</td>\n",
       "    </tr>\n",
       "  </tbody>\n",
       "</table>\n",
       "</div>"
      ],
      "text/plain": [
       "                                      person  offer_id  time  duration  is_viewed  is_completed\n",
       "time                                                                                           \n",
       "[0, 168) 0  2d6ed5cd4f2347d1a381e9e938824e29  no_offer     0       NaN        NaN             0\n",
       "         1  47e7f9c17bbe4562b6e85b8136a1c9a0  no_offer     0       NaN        NaN             0\n",
       "         2  700f2b3ea88643e0a65722cfb71f543b  no_offer     0       NaN        NaN             0\n",
       "         3  b77a7b51bf384b4ba2b0d893f792edaa  no_offer     0       NaN        NaN             1\n",
       "         4  72c31f4851d14c85aef4fe06f9c13c4a  no_offer     0       NaN        NaN             0"
      ]
     },
     "execution_count": 54,
     "metadata": {},
     "output_type": "execute_result"
    }
   ],
   "source": [
    "no_offers =transcript_p.groupby(pd.cut(transcript_p['time'],time_intervals, right=False)).apply(no_offer)\n",
    "no_offers.head()"
   ]
  },
  {
   "cell_type": "code",
   "execution_count": 55,
   "metadata": {
    "collapsed": true
   },
   "outputs": [],
   "source": [
    "#lets drop the multi-index above\n",
    "no_offers = no_offers.reset_index(drop=True)"
   ]
  },
  {
   "cell_type": "code",
   "execution_count": 56,
   "metadata": {
    "collapsed": false,
    "scrolled": false
   },
   "outputs": [
    {
     "data": {
      "text/html": [
       "<div>\n",
       "<style scoped>\n",
       "    .dataframe tbody tr th:only-of-type {\n",
       "        vertical-align: middle;\n",
       "    }\n",
       "\n",
       "    .dataframe tbody tr th {\n",
       "        vertical-align: top;\n",
       "    }\n",
       "\n",
       "    .dataframe thead th {\n",
       "        text-align: right;\n",
       "    }\n",
       "</style>\n",
       "<table border=\"1\" class=\"dataframe\">\n",
       "  <thead>\n",
       "    <tr style=\"text-align: right;\">\n",
       "      <th></th>\n",
       "      <th>event</th>\n",
       "      <th>person</th>\n",
       "      <th>time</th>\n",
       "      <th>value</th>\n",
       "      <th>offer_id</th>\n",
       "      <th>difficulty</th>\n",
       "      <th>duration</th>\n",
       "      <th>id</th>\n",
       "      <th>offer_type</th>\n",
       "      <th>reward</th>\n",
       "      <th>email</th>\n",
       "      <th>mobile</th>\n",
       "      <th>social</th>\n",
       "      <th>web</th>\n",
       "    </tr>\n",
       "  </thead>\n",
       "  <tbody>\n",
       "    <tr>\n",
       "      <th>53619</th>\n",
       "      <td>offer received</td>\n",
       "      <td>1e8555612cf545938953a8a648705185</td>\n",
       "      <td>168</td>\n",
       "      <td>{'offer id': '2298d6c36e964ae4a3e7e9706d1fb8c2'}</td>\n",
       "      <td>2298d6c36e964ae4a3e7e9706d1fb8c2</td>\n",
       "      <td>7.0</td>\n",
       "      <td>7.0</td>\n",
       "      <td>2298d6c36e964ae4a3e7e9706d1fb8c2</td>\n",
       "      <td>discount</td>\n",
       "      <td>3.0</td>\n",
       "      <td>1.0</td>\n",
       "      <td>1.0</td>\n",
       "      <td>1.0</td>\n",
       "      <td>1.0</td>\n",
       "    </tr>\n",
       "    <tr>\n",
       "      <th>67402</th>\n",
       "      <td>offer viewed</td>\n",
       "      <td>1e8555612cf545938953a8a648705185</td>\n",
       "      <td>168</td>\n",
       "      <td>{'offer id': '2298d6c36e964ae4a3e7e9706d1fb8c2'}</td>\n",
       "      <td>2298d6c36e964ae4a3e7e9706d1fb8c2</td>\n",
       "      <td>7.0</td>\n",
       "      <td>7.0</td>\n",
       "      <td>2298d6c36e964ae4a3e7e9706d1fb8c2</td>\n",
       "      <td>discount</td>\n",
       "      <td>3.0</td>\n",
       "      <td>1.0</td>\n",
       "      <td>1.0</td>\n",
       "      <td>1.0</td>\n",
       "      <td>1.0</td>\n",
       "    </tr>\n",
       "    <tr>\n",
       "      <th>67403</th>\n",
       "      <td>transaction</td>\n",
       "      <td>1e8555612cf545938953a8a648705185</td>\n",
       "      <td>168</td>\n",
       "      <td>{'amount': 16.99}</td>\n",
       "      <td></td>\n",
       "      <td>NaN</td>\n",
       "      <td>NaN</td>\n",
       "      <td>NaN</td>\n",
       "      <td>NaN</td>\n",
       "      <td>NaN</td>\n",
       "      <td>NaN</td>\n",
       "      <td>NaN</td>\n",
       "      <td>NaN</td>\n",
       "      <td>NaN</td>\n",
       "    </tr>\n",
       "    <tr>\n",
       "      <th>67404</th>\n",
       "      <td>offer completed</td>\n",
       "      <td>1e8555612cf545938953a8a648705185</td>\n",
       "      <td>168</td>\n",
       "      <td>{'offer_id': '2298d6c36e964ae4a3e7e9706d1fb8c2', 'reward': 3}</td>\n",
       "      <td>2298d6c36e964ae4a3e7e9706d1fb8c2</td>\n",
       "      <td>7.0</td>\n",
       "      <td>7.0</td>\n",
       "      <td>2298d6c36e964ae4a3e7e9706d1fb8c2</td>\n",
       "      <td>discount</td>\n",
       "      <td>3.0</td>\n",
       "      <td>1.0</td>\n",
       "      <td>1.0</td>\n",
       "      <td>1.0</td>\n",
       "      <td>1.0</td>\n",
       "    </tr>\n",
       "    <tr>\n",
       "      <th>73354</th>\n",
       "      <td>transaction</td>\n",
       "      <td>1e8555612cf545938953a8a648705185</td>\n",
       "      <td>180</td>\n",
       "      <td>{'amount': 24.33}</td>\n",
       "      <td></td>\n",
       "      <td>NaN</td>\n",
       "      <td>NaN</td>\n",
       "      <td>NaN</td>\n",
       "      <td>NaN</td>\n",
       "      <td>NaN</td>\n",
       "      <td>NaN</td>\n",
       "      <td>NaN</td>\n",
       "      <td>NaN</td>\n",
       "      <td>NaN</td>\n",
       "    </tr>\n",
       "  </tbody>\n",
       "</table>\n",
       "</div>"
      ],
      "text/plain": [
       "                 event                            person  time                                                          value                          offer_id  difficulty  duration                                id offer_type  reward  email  mobile  social  web\n",
       "53619   offer received  1e8555612cf545938953a8a648705185   168               {'offer id': '2298d6c36e964ae4a3e7e9706d1fb8c2'}  2298d6c36e964ae4a3e7e9706d1fb8c2         7.0       7.0  2298d6c36e964ae4a3e7e9706d1fb8c2   discount     3.0    1.0     1.0     1.0  1.0\n",
       "67402     offer viewed  1e8555612cf545938953a8a648705185   168               {'offer id': '2298d6c36e964ae4a3e7e9706d1fb8c2'}  2298d6c36e964ae4a3e7e9706d1fb8c2         7.0       7.0  2298d6c36e964ae4a3e7e9706d1fb8c2   discount     3.0    1.0     1.0     1.0  1.0\n",
       "67403      transaction  1e8555612cf545938953a8a648705185   168                                              {'amount': 16.99}                                           NaN       NaN                               NaN        NaN     NaN    NaN     NaN     NaN  NaN\n",
       "67404  offer completed  1e8555612cf545938953a8a648705185   168  {'offer_id': '2298d6c36e964ae4a3e7e9706d1fb8c2', 'reward': 3}  2298d6c36e964ae4a3e7e9706d1fb8c2         7.0       7.0  2298d6c36e964ae4a3e7e9706d1fb8c2   discount     3.0    1.0     1.0     1.0  1.0\n",
       "73354      transaction  1e8555612cf545938953a8a648705185   180                                              {'amount': 24.33}                                           NaN       NaN                               NaN        NaN     NaN    NaN     NaN     NaN  NaN"
      ]
     },
     "execution_count": 56,
     "metadata": {},
     "output_type": "execute_result"
    }
   ],
   "source": [
    "# the below person should not have received offer nor completed any transactions at time 0\n",
    "transcript_p[transcript_p['person']=='1e8555612cf545938953a8a648705185'].head()"
   ]
  },
  {
   "cell_type": "code",
   "execution_count": 57,
   "metadata": {
    "collapsed": false
   },
   "outputs": [
    {
     "data": {
      "text/html": [
       "<div>\n",
       "<style scoped>\n",
       "    .dataframe tbody tr th:only-of-type {\n",
       "        vertical-align: middle;\n",
       "    }\n",
       "\n",
       "    .dataframe tbody tr th {\n",
       "        vertical-align: top;\n",
       "    }\n",
       "\n",
       "    .dataframe thead th {\n",
       "        text-align: right;\n",
       "    }\n",
       "</style>\n",
       "<table border=\"1\" class=\"dataframe\">\n",
       "  <thead>\n",
       "    <tr style=\"text-align: right;\">\n",
       "      <th></th>\n",
       "      <th>event</th>\n",
       "      <th>person</th>\n",
       "      <th>time</th>\n",
       "      <th>value</th>\n",
       "      <th>offer_id</th>\n",
       "      <th>difficulty</th>\n",
       "      <th>duration</th>\n",
       "      <th>id</th>\n",
       "      <th>offer_type</th>\n",
       "      <th>reward</th>\n",
       "      <th>email</th>\n",
       "      <th>mobile</th>\n",
       "      <th>social</th>\n",
       "      <th>web</th>\n",
       "    </tr>\n",
       "  </thead>\n",
       "  <tbody>\n",
       "    <tr>\n",
       "      <th>43090</th>\n",
       "      <td>transaction</td>\n",
       "      <td>0a6d56d11a9b43bdb6aec1be26ae3f52</td>\n",
       "      <td>102</td>\n",
       "      <td>{'amount': 14.47}</td>\n",
       "      <td></td>\n",
       "      <td>NaN</td>\n",
       "      <td>NaN</td>\n",
       "      <td>NaN</td>\n",
       "      <td>NaN</td>\n",
       "      <td>NaN</td>\n",
       "      <td>NaN</td>\n",
       "      <td>NaN</td>\n",
       "      <td>NaN</td>\n",
       "      <td>NaN</td>\n",
       "    </tr>\n",
       "    <tr>\n",
       "      <th>64243</th>\n",
       "      <td>offer received</td>\n",
       "      <td>0a6d56d11a9b43bdb6aec1be26ae3f52</td>\n",
       "      <td>168</td>\n",
       "      <td>{'offer id': 'fafdcd668e3743c1bb461111dcafc2a4'}</td>\n",
       "      <td>fafdcd668e3743c1bb461111dcafc2a4</td>\n",
       "      <td>10.0</td>\n",
       "      <td>10.0</td>\n",
       "      <td>fafdcd668e3743c1bb461111dcafc2a4</td>\n",
       "      <td>discount</td>\n",
       "      <td>2.0</td>\n",
       "      <td>1.0</td>\n",
       "      <td>1.0</td>\n",
       "      <td>1.0</td>\n",
       "      <td>1.0</td>\n",
       "    </tr>\n",
       "    <tr>\n",
       "      <th>76920</th>\n",
       "      <td>offer viewed</td>\n",
       "      <td>0a6d56d11a9b43bdb6aec1be26ae3f52</td>\n",
       "      <td>186</td>\n",
       "      <td>{'offer id': 'fafdcd668e3743c1bb461111dcafc2a4'}</td>\n",
       "      <td>fafdcd668e3743c1bb461111dcafc2a4</td>\n",
       "      <td>10.0</td>\n",
       "      <td>10.0</td>\n",
       "      <td>fafdcd668e3743c1bb461111dcafc2a4</td>\n",
       "      <td>discount</td>\n",
       "      <td>2.0</td>\n",
       "      <td>1.0</td>\n",
       "      <td>1.0</td>\n",
       "      <td>1.0</td>\n",
       "      <td>1.0</td>\n",
       "    </tr>\n",
       "    <tr>\n",
       "      <th>81156</th>\n",
       "      <td>transaction</td>\n",
       "      <td>0a6d56d11a9b43bdb6aec1be26ae3f52</td>\n",
       "      <td>198</td>\n",
       "      <td>{'amount': 6.12}</td>\n",
       "      <td></td>\n",
       "      <td>NaN</td>\n",
       "      <td>NaN</td>\n",
       "      <td>NaN</td>\n",
       "      <td>NaN</td>\n",
       "      <td>NaN</td>\n",
       "      <td>NaN</td>\n",
       "      <td>NaN</td>\n",
       "      <td>NaN</td>\n",
       "      <td>NaN</td>\n",
       "    </tr>\n",
       "    <tr>\n",
       "      <th>83164</th>\n",
       "      <td>transaction</td>\n",
       "      <td>0a6d56d11a9b43bdb6aec1be26ae3f52</td>\n",
       "      <td>204</td>\n",
       "      <td>{'amount': 2.98}</td>\n",
       "      <td></td>\n",
       "      <td>NaN</td>\n",
       "      <td>NaN</td>\n",
       "      <td>NaN</td>\n",
       "      <td>NaN</td>\n",
       "      <td>NaN</td>\n",
       "      <td>NaN</td>\n",
       "      <td>NaN</td>\n",
       "      <td>NaN</td>\n",
       "      <td>NaN</td>\n",
       "    </tr>\n",
       "  </tbody>\n",
       "</table>\n",
       "</div>"
      ],
      "text/plain": [
       "                event                            person  time                                             value                          offer_id  difficulty  duration                                id offer_type  reward  email  mobile  social  web\n",
       "43090     transaction  0a6d56d11a9b43bdb6aec1be26ae3f52   102                                 {'amount': 14.47}                                           NaN       NaN                               NaN        NaN     NaN    NaN     NaN     NaN  NaN\n",
       "64243  offer received  0a6d56d11a9b43bdb6aec1be26ae3f52   168  {'offer id': 'fafdcd668e3743c1bb461111dcafc2a4'}  fafdcd668e3743c1bb461111dcafc2a4        10.0      10.0  fafdcd668e3743c1bb461111dcafc2a4   discount     2.0    1.0     1.0     1.0  1.0\n",
       "76920    offer viewed  0a6d56d11a9b43bdb6aec1be26ae3f52   186  {'offer id': 'fafdcd668e3743c1bb461111dcafc2a4'}  fafdcd668e3743c1bb461111dcafc2a4        10.0      10.0  fafdcd668e3743c1bb461111dcafc2a4   discount     2.0    1.0     1.0     1.0  1.0\n",
       "81156     transaction  0a6d56d11a9b43bdb6aec1be26ae3f52   198                                  {'amount': 6.12}                                           NaN       NaN                               NaN        NaN     NaN    NaN     NaN     NaN  NaN\n",
       "83164     transaction  0a6d56d11a9b43bdb6aec1be26ae3f52   204                                  {'amount': 2.98}                                           NaN       NaN                               NaN        NaN     NaN    NaN     NaN     NaN  NaN"
      ]
     },
     "execution_count": 57,
     "metadata": {},
     "output_type": "execute_result"
    }
   ],
   "source": [
    "#we see that the below person did not receive any offer at time 0 however made the transaction at time 102 which is in \n",
    "#time interval 0 to 168\n",
    "transcript_p[transcript_p['person']=='0a6d56d11a9b43bdb6aec1be26ae3f52'].head()"
   ]
  },
  {
   "cell_type": "code",
   "execution_count": 58,
   "metadata": {
    "collapsed": false
   },
   "outputs": [],
   "source": [
    "#lets append offers and no_offers table, as to have tables with persons who completed the offers and those who did not\n",
    "offers_m = offers.append(no_offers)"
   ]
  },
  {
   "cell_type": "code",
   "execution_count": 59,
   "metadata": {
    "collapsed": false
   },
   "outputs": [
    {
     "data": {
      "text/plain": [
       "(102000, 6)"
      ]
     },
     "execution_count": 59,
     "metadata": {},
     "output_type": "execute_result"
    }
   ],
   "source": [
    "offers_m.shape"
   ]
  },
  {
   "cell_type": "code",
   "execution_count": 60,
   "metadata": {
    "collapsed": false
   },
   "outputs": [
    {
     "data": {
      "text/plain": [
       "Index(['duration', 'is_completed', 'is_viewed', 'offer_id', 'person', 'time'], dtype='object')"
      ]
     },
     "execution_count": 60,
     "metadata": {},
     "output_type": "execute_result"
    }
   ],
   "source": [
    "offers_m.columns"
   ]
  },
  {
   "cell_type": "code",
   "execution_count": 61,
   "metadata": {
    "collapsed": false
   },
   "outputs": [],
   "source": [
    "offers_m = offers_m.merge(profile, how='left', left_on='person', right_on='id').drop(columns=['person','id'])"
   ]
  },
  {
   "cell_type": "code",
   "execution_count": 62,
   "metadata": {
    "collapsed": false
   },
   "outputs": [
    {
     "data": {
      "text/plain": [
       "Index(['duration', 'is_completed', 'is_viewed', 'offer_id', 'time', 'age', 'became_member_on', 'gender', 'income'], dtype='object')"
      ]
     },
     "execution_count": 62,
     "metadata": {},
     "output_type": "execute_result"
    }
   ],
   "source": [
    "offers_m.columns"
   ]
  },
  {
   "cell_type": "code",
   "execution_count": 63,
   "metadata": {
    "collapsed": false,
    "scrolled": false
   },
   "outputs": [
    {
     "data": {
      "text/html": [
       "<div>\n",
       "<style scoped>\n",
       "    .dataframe tbody tr th:only-of-type {\n",
       "        vertical-align: middle;\n",
       "    }\n",
       "\n",
       "    .dataframe tbody tr th {\n",
       "        vertical-align: top;\n",
       "    }\n",
       "\n",
       "    .dataframe thead th {\n",
       "        text-align: right;\n",
       "    }\n",
       "</style>\n",
       "<table border=\"1\" class=\"dataframe\">\n",
       "  <thead>\n",
       "    <tr style=\"text-align: right;\">\n",
       "      <th></th>\n",
       "      <th>duration</th>\n",
       "      <th>is_completed</th>\n",
       "      <th>is_viewed</th>\n",
       "      <th>time</th>\n",
       "      <th>age</th>\n",
       "      <th>income</th>\n",
       "    </tr>\n",
       "  </thead>\n",
       "  <tbody>\n",
       "    <tr>\n",
       "      <th>count</th>\n",
       "      <td>76277.000000</td>\n",
       "      <td>102000.000000</td>\n",
       "      <td>76277.000000</td>\n",
       "      <td>102000.000000</td>\n",
       "      <td>88950.000000</td>\n",
       "      <td>88950.000000</td>\n",
       "    </tr>\n",
       "    <tr>\n",
       "      <th>mean</th>\n",
       "      <td>6.503704</td>\n",
       "      <td>0.472343</td>\n",
       "      <td>0.745900</td>\n",
       "      <td>332.000000</td>\n",
       "      <td>54.393524</td>\n",
       "      <td>65404.991568</td>\n",
       "    </tr>\n",
       "    <tr>\n",
       "      <th>std</th>\n",
       "      <td>2.201544</td>\n",
       "      <td>0.499237</td>\n",
       "      <td>0.435357</td>\n",
       "      <td>196.652941</td>\n",
       "      <td>17.383217</td>\n",
       "      <td>21597.692360</td>\n",
       "    </tr>\n",
       "    <tr>\n",
       "      <th>min</th>\n",
       "      <td>3.000000</td>\n",
       "      <td>0.000000</td>\n",
       "      <td>0.000000</td>\n",
       "      <td>0.000000</td>\n",
       "      <td>18.000000</td>\n",
       "      <td>30000.000000</td>\n",
       "    </tr>\n",
       "    <tr>\n",
       "      <th>25%</th>\n",
       "      <td>5.000000</td>\n",
       "      <td>0.000000</td>\n",
       "      <td>0.000000</td>\n",
       "      <td>168.000000</td>\n",
       "      <td>42.000000</td>\n",
       "      <td>49000.000000</td>\n",
       "    </tr>\n",
       "    <tr>\n",
       "      <th>50%</th>\n",
       "      <td>7.000000</td>\n",
       "      <td>0.000000</td>\n",
       "      <td>1.000000</td>\n",
       "      <td>372.000000</td>\n",
       "      <td>55.000000</td>\n",
       "      <td>64000.000000</td>\n",
       "    </tr>\n",
       "    <tr>\n",
       "      <th>75%</th>\n",
       "      <td>7.000000</td>\n",
       "      <td>1.000000</td>\n",
       "      <td>1.000000</td>\n",
       "      <td>504.000000</td>\n",
       "      <td>66.000000</td>\n",
       "      <td>80000.000000</td>\n",
       "    </tr>\n",
       "    <tr>\n",
       "      <th>max</th>\n",
       "      <td>10.000000</td>\n",
       "      <td>1.000000</td>\n",
       "      <td>1.000000</td>\n",
       "      <td>576.000000</td>\n",
       "      <td>101.000000</td>\n",
       "      <td>120000.000000</td>\n",
       "    </tr>\n",
       "  </tbody>\n",
       "</table>\n",
       "</div>"
      ],
      "text/plain": [
       "           duration   is_completed     is_viewed           time           age         income\n",
       "count  76277.000000  102000.000000  76277.000000  102000.000000  88950.000000   88950.000000\n",
       "mean       6.503704       0.472343      0.745900     332.000000     54.393524   65404.991568\n",
       "std        2.201544       0.499237      0.435357     196.652941     17.383217   21597.692360\n",
       "min        3.000000       0.000000      0.000000       0.000000     18.000000   30000.000000\n",
       "25%        5.000000       0.000000      0.000000     168.000000     42.000000   49000.000000\n",
       "50%        7.000000       0.000000      1.000000     372.000000     55.000000   64000.000000\n",
       "75%        7.000000       1.000000      1.000000     504.000000     66.000000   80000.000000\n",
       "max       10.000000       1.000000      1.000000     576.000000    101.000000  120000.000000"
      ]
     },
     "execution_count": 63,
     "metadata": {},
     "output_type": "execute_result"
    }
   ],
   "source": [
    "offers_m.describe()"
   ]
  },
  {
   "cell_type": "markdown",
   "metadata": {},
   "source": [
    "We need to have an age of the person, and it will be calculated based on the age at the beginning of the promotion. We will assume the age to be max time of joining plus few days for rounding, i.e. 2018-08-01"
   ]
  },
  {
   "cell_type": "code",
   "execution_count": 64,
   "metadata": {
    "collapsed": false
   },
   "outputs": [
    {
     "data": {
      "text/plain": [
       "Timestamp('2018-07-26 00:00:00')"
      ]
     },
     "execution_count": 64,
     "metadata": {},
     "output_type": "execute_result"
    }
   ],
   "source": [
    "offers_m['became_member_on'].max()"
   ]
  },
  {
   "cell_type": "markdown",
   "metadata": {},
   "source": [
    "Lets calculate the 'age' of the user since she joined the app"
   ]
  },
  {
   "cell_type": "code",
   "execution_count": 65,
   "metadata": {
    "collapsed": true
   },
   "outputs": [],
   "source": [
    "offers_m['became_member_on']=(offers_m['became_member_on'].max()-offers_m['became_member_on']).dt.days"
   ]
  },
  {
   "cell_type": "code",
   "execution_count": 66,
   "metadata": {
    "collapsed": false
   },
   "outputs": [
    {
     "data": {
      "text/plain": [
       "Index(['difficulty', 'duration', 'id', 'offer_type', 'reward', 'email', 'mobile', 'social', 'web'], dtype='object')"
      ]
     },
     "execution_count": 66,
     "metadata": {},
     "output_type": "execute_result"
    }
   ],
   "source": [
    "portfolio.columns"
   ]
  },
  {
   "cell_type": "code",
   "execution_count": 67,
   "metadata": {
    "collapsed": false
   },
   "outputs": [],
   "source": [
    "offers_m = offers_m.merge(portfolio.drop(columns='duration'), how='left', left_on='offer_id', right_on='id').drop(columns=['offer_id','id'])"
   ]
  },
  {
   "cell_type": "code",
   "execution_count": 68,
   "metadata": {
    "collapsed": false
   },
   "outputs": [
    {
     "data": {
      "text/plain": [
       "Index(['duration', 'is_completed', 'is_viewed', 'time', 'age', 'became_member_on', 'gender', 'income', 'difficulty', 'offer_type', 'reward', 'email', 'mobile', 'social', 'web'], dtype='object')"
      ]
     },
     "execution_count": 68,
     "metadata": {},
     "output_type": "execute_result"
    }
   ],
   "source": [
    "offers_m.columns"
   ]
  },
  {
   "cell_type": "code",
   "execution_count": 112,
   "metadata": {
    "collapsed": true
   },
   "outputs": [],
   "source": [
    "y,x = offers_m['is_completed'], offers_m.drop(columns=['is_completed','is_viewed','time'])"
   ]
  },
  {
   "cell_type": "code",
   "execution_count": 113,
   "metadata": {
    "collapsed": true
   },
   "outputs": [],
   "source": [
    "#Need to create categoricals and replaces Nan and None values with some other string like 'Null'\n",
    "categoricals = np.where(x.columns.isin(['gender','offer_type']))[0]\n",
    "x.iloc[:,categoricals] = x.iloc[:,categoricals].fillna('Null')"
   ]
  },
  {
   "cell_type": "markdown",
   "metadata": {},
   "source": [
    "For catboost we don't need to dummify the categorical features and also standard scale the numerical features as the algorithm takes care of those features"
   ]
  },
  {
   "cell_type": "code",
   "execution_count": 114,
   "metadata": {
    "collapsed": true
   },
   "outputs": [],
   "source": [
    "x_train, x_test, y_train, y_test = train_test_split(x,y)"
   ]
  },
  {
   "cell_type": "code",
   "execution_count": 115,
   "metadata": {
    "collapsed": true
   },
   "outputs": [],
   "source": [
    "params = {'n_estimators':[100,200,300], 'learning_rate': [0.1], 'max_depth':[3]}\n",
    "grid = GridSearchCV(CatBoostClassifier(cat_features=categoricals, eval_metric='AUC'), param_grid=params, cv=3)"
   ]
  },
  {
   "cell_type": "code",
   "execution_count": 116,
   "metadata": {
    "collapsed": false,
    "scrolled": false
   },
   "outputs": [
    {
     "data": {
      "text/plain": [
       "GridSearchCV(cv=3, error_score='raise-deprecating',\n",
       "             estimator=<catboost.core.CatBoostClassifier object at 0x1222cf320>,\n",
       "             iid='warn', n_jobs=None,\n",
       "             param_grid={'learning_rate': [0.1], 'max_depth': [3],\n",
       "                         'n_estimators': [100, 200, 300]},\n",
       "             pre_dispatch='2*n_jobs', refit=True, return_train_score=False,\n",
       "             scoring=None, verbose=0)"
      ]
     },
     "execution_count": 116,
     "metadata": {},
     "output_type": "execute_result"
    }
   ],
   "source": [
    "grid.fit(x_train, y_train, eval_set=[(x_train, y_train),(x_test, y_test)],silent=True)"
   ]
  },
  {
   "cell_type": "code",
   "execution_count": 117,
   "metadata": {
    "collapsed": false
   },
   "outputs": [
    {
     "data": {
      "text/plain": [
       "{'learning_rate': 0.1, 'max_depth': 3, 'n_estimators': 300}"
      ]
     },
     "execution_count": 117,
     "metadata": {},
     "output_type": "execute_result"
    }
   ],
   "source": [
    "grid.best_params_"
   ]
  },
  {
   "cell_type": "code",
   "execution_count": 118,
   "metadata": {
    "collapsed": false
   },
   "outputs": [
    {
     "data": {
      "text/plain": [
       "{'mean_fit_time': array([ 2.66914606, 12.55728165, 16.82774623]),\n",
       " 'std_fit_time': array([0.25350709, 0.81687408, 0.36579583]),\n",
       " 'mean_score_time': array([0.03940264, 0.03760362, 0.09565965]),\n",
       " 'std_score_time': array([0.00400096, 0.0019861 , 0.0382554 ]),\n",
       " 'param_learning_rate': masked_array(data=[0.1, 0.1, 0.1],\n",
       "              mask=[False, False, False],\n",
       "        fill_value='?',\n",
       "             dtype=object),\n",
       " 'param_max_depth': masked_array(data=[3, 3, 3],\n",
       "              mask=[False, False, False],\n",
       "        fill_value='?',\n",
       "             dtype=object),\n",
       " 'param_n_estimators': masked_array(data=[100, 200, 300],\n",
       "              mask=[False, False, False],\n",
       "        fill_value='?',\n",
       "             dtype=object),\n",
       " 'params': [{'learning_rate': 0.1, 'max_depth': 3, 'n_estimators': 100},\n",
       "  {'learning_rate': 0.1, 'max_depth': 3, 'n_estimators': 200},\n",
       "  {'learning_rate': 0.1, 'max_depth': 3, 'n_estimators': 300}],\n",
       " 'split0_test_score': array([0.73620642, 0.73640249, 0.73706913]),\n",
       " 'split1_test_score': array([0.73529412, 0.73764706, 0.73780392]),\n",
       " 'split2_test_score': array([0.73551904, 0.73779364, 0.73916624]),\n",
       " 'mean_test_score': array([0.7356732 , 0.73728105, 0.73801307]),\n",
       " 'std_test_score': array([0.00038807, 0.00062412, 0.00086882]),\n",
       " 'rank_test_score': array([3, 2, 1], dtype=int32)}"
      ]
     },
     "execution_count": 118,
     "metadata": {},
     "output_type": "execute_result"
    }
   ],
   "source": [
    "grid.cv_results_"
   ]
  },
  {
   "cell_type": "markdown",
   "metadata": {},
   "source": [
    "The accuracy metric is almost 75% and it worked well for the situations where label classes are balanced as see below"
   ]
  },
  {
   "cell_type": "code",
   "execution_count": 89,
   "metadata": {
    "collapsed": false
   },
   "outputs": [
    {
     "data": {
      "text/plain": [
       "0    53821\n",
       "1    48179\n",
       "Name: is_completed, dtype: int64"
      ]
     },
     "execution_count": 89,
     "metadata": {},
     "output_type": "execute_result"
    }
   ],
   "source": [
    "y.value_counts()"
   ]
  },
  {
   "cell_type": "code",
   "execution_count": 119,
   "metadata": {
    "collapsed": false,
    "scrolled": true
   },
   "outputs": [
    {
     "data": {
      "text/plain": [
       "Index(['duration', 'age', 'became_member_on', 'gender', 'income', 'difficulty', 'offer_type', 'reward', 'email', 'mobile', 'social', 'web'], dtype='object')"
      ]
     },
     "execution_count": 119,
     "metadata": {},
     "output_type": "execute_result"
    }
   ],
   "source": [
    "x.columns"
   ]
  },
  {
   "cell_type": "code",
   "execution_count": 135,
   "metadata": {
    "collapsed": false
   },
   "outputs": [
    {
     "data": {
      "text/html": [
       "<div>\n",
       "<style scoped>\n",
       "    .dataframe tbody tr th:only-of-type {\n",
       "        vertical-align: middle;\n",
       "    }\n",
       "\n",
       "    .dataframe tbody tr th {\n",
       "        vertical-align: top;\n",
       "    }\n",
       "\n",
       "    .dataframe thead th {\n",
       "        text-align: right;\n",
       "    }\n",
       "</style>\n",
       "<table border=\"1\" class=\"dataframe\">\n",
       "  <thead>\n",
       "    <tr style=\"text-align: right;\">\n",
       "      <th></th>\n",
       "      <th>duration</th>\n",
       "      <th>age</th>\n",
       "      <th>became_member_on</th>\n",
       "      <th>gender</th>\n",
       "      <th>income</th>\n",
       "      <th>difficulty</th>\n",
       "      <th>offer_type</th>\n",
       "      <th>reward</th>\n",
       "      <th>email</th>\n",
       "      <th>mobile</th>\n",
       "      <th>social</th>\n",
       "      <th>web</th>\n",
       "      <th>proba</th>\n",
       "    </tr>\n",
       "  </thead>\n",
       "  <tbody>\n",
       "    <tr>\n",
       "      <th>0</th>\n",
       "      <td>7.0</td>\n",
       "      <td>58.0</td>\n",
       "      <td>234</td>\n",
       "      <td>M</td>\n",
       "      <td>54000.0</td>\n",
       "      <td>10.0</td>\n",
       "      <td>bogo</td>\n",
       "      <td>10.0</td>\n",
       "      <td>1.0</td>\n",
       "      <td>1.0</td>\n",
       "      <td>1.0</td>\n",
       "      <td>0.0</td>\n",
       "      <td>0.342229</td>\n",
       "    </tr>\n",
       "    <tr>\n",
       "      <th>1</th>\n",
       "      <td>5.0</td>\n",
       "      <td>58.0</td>\n",
       "      <td>234</td>\n",
       "      <td>M</td>\n",
       "      <td>54000.0</td>\n",
       "      <td>10.0</td>\n",
       "      <td>bogo</td>\n",
       "      <td>10.0</td>\n",
       "      <td>1.0</td>\n",
       "      <td>1.0</td>\n",
       "      <td>1.0</td>\n",
       "      <td>1.0</td>\n",
       "      <td>0.311256</td>\n",
       "    </tr>\n",
       "    <tr>\n",
       "      <th>2</th>\n",
       "      <td>4.0</td>\n",
       "      <td>58.0</td>\n",
       "      <td>234</td>\n",
       "      <td>M</td>\n",
       "      <td>54000.0</td>\n",
       "      <td>0.0</td>\n",
       "      <td>informational</td>\n",
       "      <td>0.0</td>\n",
       "      <td>1.0</td>\n",
       "      <td>1.0</td>\n",
       "      <td>0.0</td>\n",
       "      <td>1.0</td>\n",
       "      <td>0.000419</td>\n",
       "    </tr>\n",
       "    <tr>\n",
       "      <th>3</th>\n",
       "      <td>7.0</td>\n",
       "      <td>58.0</td>\n",
       "      <td>234</td>\n",
       "      <td>M</td>\n",
       "      <td>54000.0</td>\n",
       "      <td>5.0</td>\n",
       "      <td>bogo</td>\n",
       "      <td>5.0</td>\n",
       "      <td>1.0</td>\n",
       "      <td>1.0</td>\n",
       "      <td>0.0</td>\n",
       "      <td>1.0</td>\n",
       "      <td>0.467183</td>\n",
       "    </tr>\n",
       "    <tr>\n",
       "      <th>4</th>\n",
       "      <td>10.0</td>\n",
       "      <td>58.0</td>\n",
       "      <td>234</td>\n",
       "      <td>M</td>\n",
       "      <td>54000.0</td>\n",
       "      <td>20.0</td>\n",
       "      <td>discount</td>\n",
       "      <td>5.0</td>\n",
       "      <td>1.0</td>\n",
       "      <td>0.0</td>\n",
       "      <td>0.0</td>\n",
       "      <td>1.0</td>\n",
       "      <td>0.317125</td>\n",
       "    </tr>\n",
       "    <tr>\n",
       "      <th>5</th>\n",
       "      <td>7.0</td>\n",
       "      <td>58.0</td>\n",
       "      <td>234</td>\n",
       "      <td>M</td>\n",
       "      <td>54000.0</td>\n",
       "      <td>7.0</td>\n",
       "      <td>discount</td>\n",
       "      <td>3.0</td>\n",
       "      <td>1.0</td>\n",
       "      <td>1.0</td>\n",
       "      <td>1.0</td>\n",
       "      <td>1.0</td>\n",
       "      <td>0.574805</td>\n",
       "    </tr>\n",
       "    <tr>\n",
       "      <th>6</th>\n",
       "      <td>10.0</td>\n",
       "      <td>58.0</td>\n",
       "      <td>234</td>\n",
       "      <td>M</td>\n",
       "      <td>54000.0</td>\n",
       "      <td>10.0</td>\n",
       "      <td>discount</td>\n",
       "      <td>2.0</td>\n",
       "      <td>1.0</td>\n",
       "      <td>1.0</td>\n",
       "      <td>1.0</td>\n",
       "      <td>1.0</td>\n",
       "      <td>0.575457</td>\n",
       "    </tr>\n",
       "    <tr>\n",
       "      <th>7</th>\n",
       "      <td>3.0</td>\n",
       "      <td>58.0</td>\n",
       "      <td>234</td>\n",
       "      <td>M</td>\n",
       "      <td>54000.0</td>\n",
       "      <td>0.0</td>\n",
       "      <td>informational</td>\n",
       "      <td>0.0</td>\n",
       "      <td>1.0</td>\n",
       "      <td>1.0</td>\n",
       "      <td>1.0</td>\n",
       "      <td>0.0</td>\n",
       "      <td>0.000767</td>\n",
       "    </tr>\n",
       "    <tr>\n",
       "      <th>8</th>\n",
       "      <td>5.0</td>\n",
       "      <td>58.0</td>\n",
       "      <td>234</td>\n",
       "      <td>M</td>\n",
       "      <td>54000.0</td>\n",
       "      <td>5.0</td>\n",
       "      <td>bogo</td>\n",
       "      <td>5.0</td>\n",
       "      <td>1.0</td>\n",
       "      <td>1.0</td>\n",
       "      <td>1.0</td>\n",
       "      <td>1.0</td>\n",
       "      <td>0.445288</td>\n",
       "    </tr>\n",
       "    <tr>\n",
       "      <th>9</th>\n",
       "      <td>7.0</td>\n",
       "      <td>58.0</td>\n",
       "      <td>234</td>\n",
       "      <td>M</td>\n",
       "      <td>54000.0</td>\n",
       "      <td>10.0</td>\n",
       "      <td>discount</td>\n",
       "      <td>2.0</td>\n",
       "      <td>1.0</td>\n",
       "      <td>1.0</td>\n",
       "      <td>0.0</td>\n",
       "      <td>1.0</td>\n",
       "      <td>0.442099</td>\n",
       "    </tr>\n",
       "    <tr>\n",
       "      <th>10</th>\n",
       "      <td>NaN</td>\n",
       "      <td>58.0</td>\n",
       "      <td>234</td>\n",
       "      <td>M</td>\n",
       "      <td>54000.0</td>\n",
       "      <td>NaN</td>\n",
       "      <td>no_offer</td>\n",
       "      <td>NaN</td>\n",
       "      <td>NaN</td>\n",
       "      <td>NaN</td>\n",
       "      <td>NaN</td>\n",
       "      <td>NaN</td>\n",
       "      <td>0.134720</td>\n",
       "    </tr>\n",
       "  </tbody>\n",
       "</table>\n",
       "</div>"
      ],
      "text/plain": [
       "    duration   age  became_member_on gender   income  difficulty     offer_type  reward  email  mobile  social  web     proba\n",
       "0        7.0  58.0               234      M  54000.0        10.0           bogo    10.0    1.0     1.0     1.0  0.0  0.342229\n",
       "1        5.0  58.0               234      M  54000.0        10.0           bogo    10.0    1.0     1.0     1.0  1.0  0.311256\n",
       "2        4.0  58.0               234      M  54000.0         0.0  informational     0.0    1.0     1.0     0.0  1.0  0.000419\n",
       "3        7.0  58.0               234      M  54000.0         5.0           bogo     5.0    1.0     1.0     0.0  1.0  0.467183\n",
       "4       10.0  58.0               234      M  54000.0        20.0       discount     5.0    1.0     0.0     0.0  1.0  0.317125\n",
       "5        7.0  58.0               234      M  54000.0         7.0       discount     3.0    1.0     1.0     1.0  1.0  0.574805\n",
       "6       10.0  58.0               234      M  54000.0        10.0       discount     2.0    1.0     1.0     1.0  1.0  0.575457\n",
       "7        3.0  58.0               234      M  54000.0         0.0  informational     0.0    1.0     1.0     1.0  0.0  0.000767\n",
       "8        5.0  58.0               234      M  54000.0         5.0           bogo     5.0    1.0     1.0     1.0  1.0  0.445288\n",
       "9        7.0  58.0               234      M  54000.0        10.0       discount     2.0    1.0     1.0     0.0  1.0  0.442099\n",
       "10       NaN  58.0               234      M  54000.0         NaN       no_offer     NaN    NaN     NaN     NaN  NaN  0.134720"
      ]
     },
     "execution_count": 135,
     "metadata": {},
     "output_type": "execute_result"
    }
   ],
   "source": [
    "portfolio_no_offer"
   ]
  },
  {
   "cell_type": "code",
   "execution_count": 165,
   "metadata": {
    "collapsed": true
   },
   "outputs": [],
   "source": [
    "def get_proba(person):\n",
    "    assert person in profile['id'].tolist(),'Person does not exist'\n",
    "    portfolio_no_offer = pd.concat([portfolio, \\\n",
    "    pd.DataFrame([[np.nan, np.nan, np.nan, 'no_offer',np.nan,np.nan,np.nan,np.nan,np.nan]],columns=portfolio.columns)],\\\n",
    "                               ignore_index=True)\n",
    "    current_profile = profile[profile['id']==person].drop(columns='id')\n",
    "    current_profile['became_member_on']=(profile['became_member_on'].max()-current_profile['became_member_on']).dt.days\n",
    "    for col in current_profile.columns:\n",
    "        portfolio_no_offer[col]=current_profile[col].iloc[0]\n",
    "    data = portfolio_no_offer[x.columns]    \n",
    "    portfolio_no_offer['proba'] = grid.predict_proba(data)[:,1]\n",
    "    return portfolio_no_offer[['id','offer_type','proba']]"
   ]
  },
  {
   "cell_type": "code",
   "execution_count": 166,
   "metadata": {
    "collapsed": false
   },
   "outputs": [
    {
     "data": {
      "text/html": [
       "<div>\n",
       "<style scoped>\n",
       "    .dataframe tbody tr th:only-of-type {\n",
       "        vertical-align: middle;\n",
       "    }\n",
       "\n",
       "    .dataframe tbody tr th {\n",
       "        vertical-align: top;\n",
       "    }\n",
       "\n",
       "    .dataframe thead th {\n",
       "        text-align: right;\n",
       "    }\n",
       "</style>\n",
       "<table border=\"1\" class=\"dataframe\">\n",
       "  <thead>\n",
       "    <tr style=\"text-align: right;\">\n",
       "      <th></th>\n",
       "      <th>id</th>\n",
       "      <th>offer_type</th>\n",
       "      <th>proba</th>\n",
       "    </tr>\n",
       "  </thead>\n",
       "  <tbody>\n",
       "    <tr>\n",
       "      <th>0</th>\n",
       "      <td>ae264e3637204a6fb9bb56bc8210ddfd</td>\n",
       "      <td>bogo</td>\n",
       "      <td>0.347025</td>\n",
       "    </tr>\n",
       "    <tr>\n",
       "      <th>1</th>\n",
       "      <td>4d5c57ea9a6940dd891ad53e9dbe8da0</td>\n",
       "      <td>bogo</td>\n",
       "      <td>0.315828</td>\n",
       "    </tr>\n",
       "    <tr>\n",
       "      <th>2</th>\n",
       "      <td>3f207df678b143eea3cee63160fa8bed</td>\n",
       "      <td>informational</td>\n",
       "      <td>0.000415</td>\n",
       "    </tr>\n",
       "    <tr>\n",
       "      <th>3</th>\n",
       "      <td>9b98b8c7a33c4b65b9aebfe6a799e6d9</td>\n",
       "      <td>bogo</td>\n",
       "      <td>0.464923</td>\n",
       "    </tr>\n",
       "    <tr>\n",
       "      <th>4</th>\n",
       "      <td>0b1e1539f2cc45b7b9fa7c272da2e1d7</td>\n",
       "      <td>discount</td>\n",
       "      <td>0.321742</td>\n",
       "    </tr>\n",
       "    <tr>\n",
       "      <th>5</th>\n",
       "      <td>2298d6c36e964ae4a3e7e9706d1fb8c2</td>\n",
       "      <td>discount</td>\n",
       "      <td>0.572583</td>\n",
       "    </tr>\n",
       "    <tr>\n",
       "      <th>6</th>\n",
       "      <td>fafdcd668e3743c1bb461111dcafc2a4</td>\n",
       "      <td>discount</td>\n",
       "      <td>0.580637</td>\n",
       "    </tr>\n",
       "    <tr>\n",
       "      <th>7</th>\n",
       "      <td>5a8bc65990b245e5a138643cd4eb9837</td>\n",
       "      <td>informational</td>\n",
       "      <td>0.000760</td>\n",
       "    </tr>\n",
       "    <tr>\n",
       "      <th>8</th>\n",
       "      <td>f19421c1d4aa40978ebb69ca19b0e20d</td>\n",
       "      <td>bogo</td>\n",
       "      <td>0.443045</td>\n",
       "    </tr>\n",
       "    <tr>\n",
       "      <th>9</th>\n",
       "      <td>2906b810c7d4411798c6938adc9daaa5</td>\n",
       "      <td>discount</td>\n",
       "      <td>0.447344</td>\n",
       "    </tr>\n",
       "    <tr>\n",
       "      <th>10</th>\n",
       "      <td>NaN</td>\n",
       "      <td>no_offer</td>\n",
       "      <td>0.133664</td>\n",
       "    </tr>\n",
       "  </tbody>\n",
       "</table>\n",
       "</div>"
      ],
      "text/plain": [
       "                                  id     offer_type     proba\n",
       "0   ae264e3637204a6fb9bb56bc8210ddfd           bogo  0.347025\n",
       "1   4d5c57ea9a6940dd891ad53e9dbe8da0           bogo  0.315828\n",
       "2   3f207df678b143eea3cee63160fa8bed  informational  0.000415\n",
       "3   9b98b8c7a33c4b65b9aebfe6a799e6d9           bogo  0.464923\n",
       "4   0b1e1539f2cc45b7b9fa7c272da2e1d7       discount  0.321742\n",
       "5   2298d6c36e964ae4a3e7e9706d1fb8c2       discount  0.572583\n",
       "6   fafdcd668e3743c1bb461111dcafc2a4       discount  0.580637\n",
       "7   5a8bc65990b245e5a138643cd4eb9837  informational  0.000760\n",
       "8   f19421c1d4aa40978ebb69ca19b0e20d           bogo  0.443045\n",
       "9   2906b810c7d4411798c6938adc9daaa5       discount  0.447344\n",
       "10                               NaN       no_offer  0.133664"
      ]
     },
     "execution_count": 166,
     "metadata": {},
     "output_type": "execute_result"
    }
   ],
   "source": [
    "get_proba('b77a7b51bf384b4ba2b0d893f792edaa')"
   ]
  },
  {
   "cell_type": "code",
   "execution_count": 144,
   "metadata": {
    "collapsed": false
   },
   "outputs": [
    {
     "data": {
      "text/html": [
       "<div>\n",
       "<style scoped>\n",
       "    .dataframe tbody tr th:only-of-type {\n",
       "        vertical-align: middle;\n",
       "    }\n",
       "\n",
       "    .dataframe tbody tr th {\n",
       "        vertical-align: top;\n",
       "    }\n",
       "\n",
       "    .dataframe thead th {\n",
       "        text-align: right;\n",
       "    }\n",
       "</style>\n",
       "<table border=\"1\" class=\"dataframe\">\n",
       "  <thead>\n",
       "    <tr style=\"text-align: right;\">\n",
       "      <th></th>\n",
       "      <th>age</th>\n",
       "      <th>became_member_on</th>\n",
       "      <th>gender</th>\n",
       "      <th>id</th>\n",
       "      <th>income</th>\n",
       "    </tr>\n",
       "  </thead>\n",
       "  <tbody>\n",
       "    <tr>\n",
       "      <th>3788</th>\n",
       "      <td>58.0</td>\n",
       "      <td>2017-12-04</td>\n",
       "      <td>M</td>\n",
       "      <td>2d6ed5cd4f2347d1a381e9e938824e29</td>\n",
       "      <td>54000.0</td>\n",
       "    </tr>\n",
       "  </tbody>\n",
       "</table>\n",
       "</div>"
      ],
      "text/plain": [
       "       age became_member_on gender                                id   income\n",
       "3788  58.0       2017-12-04      M  2d6ed5cd4f2347d1a381e9e938824e29  54000.0"
      ]
     },
     "execution_count": 144,
     "metadata": {},
     "output_type": "execute_result"
    }
   ],
   "source": [
    "profile[profile['id']=='b77a7b51bf384b4ba2b0d893f792edaa']"
   ]
  },
  {
   "cell_type": "code",
   "execution_count": 149,
   "metadata": {
    "collapsed": false
   },
   "outputs": [
    {
     "data": {
      "text/plain": [
       "True"
      ]
     },
     "execution_count": 149,
     "metadata": {},
     "output_type": "execute_result"
    }
   ],
   "source": [
    "'2d6ed5cd4f2347d1a381e9e938824e29' in profile['id'].tolist()"
   ]
  },
  {
   "cell_type": "code",
   "execution_count": null,
   "metadata": {
    "collapsed": true
   },
   "outputs": [],
   "source": []
  }
 ],
 "metadata": {
  "anaconda-cloud": {},
  "kernelspec": {
   "display_name": "Python [conda env:uda]",
   "language": "python",
   "name": "conda-env-uda-py"
  },
  "language_info": {
   "codemirror_mode": {
    "name": "ipython",
    "version": 3
   },
   "file_extension": ".py",
   "mimetype": "text/x-python",
   "name": "python",
   "nbconvert_exporter": "python",
   "pygments_lexer": "ipython3",
   "version": "3.6.8"
  }
 },
 "nbformat": 4,
 "nbformat_minor": 2
}
